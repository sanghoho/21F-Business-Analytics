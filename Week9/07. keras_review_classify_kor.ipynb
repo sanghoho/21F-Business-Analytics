{
 "cells": [
  {
   "cell_type": "markdown",
   "metadata": {},
   "source": [
    "# keras embedding을 이용한 문서 분류\n",
    "### 영화리뷰 데이터 대상"
   ]
  },
  {
   "cell_type": "markdown",
   "metadata": {},
   "source": [
    "## train set의 크기가 더 큰 데이터 셋, 그리고 한글"
   ]
  },
  {
   "cell_type": "code",
   "execution_count": 1,
   "metadata": {},
   "outputs": [],
   "source": [
    "import csv\n",
    "\n",
    "text = []\n",
    "y = []\n",
    "with open('movie_data_new.csv', encoding='utf-8') as csvfile:\n",
    "    csvreader = csv.reader(csvfile)\n",
    "    for row in csvreader:\n",
    "        #print(row)\n",
    "        if row: #그 줄에 내용이 있는 경우에만\n",
    "            text.append(row[0]) #영화 리뷰를 text 리스트에 추가\n",
    "            y.append(row[2]) #영화이름을 text 리스트에 추가"
   ]
  },
  {
   "cell_type": "code",
   "execution_count": 2,
   "metadata": {},
   "outputs": [
    {
     "name": "stdout",
     "output_type": "stream",
     "text": [
      "Num of samples: 14967\n",
      "Movie titles of reivews: {'라라랜드', '곤지암', '범죄도시', '택시운전사', '코코', '신과함께', '인피니티 워'}\n"
     ]
    }
   ],
   "source": [
    "print('Num of samples: {}'.format(len(text)))\n",
    "print('Movie titles of reivews: {}'.format(set(y)))"
   ]
  },
  {
   "cell_type": "code",
   "execution_count": 3,
   "metadata": {},
   "outputs": [
    {
     "name": "stdout",
     "output_type": "stream",
     "text": [
      "14967\n",
      "[4, 4, 4, 4, 4, 4, 4, 4, 4, 4]\n"
     ]
    }
   ],
   "source": [
    "label_dict = dict(zip(set(y),range(len(set(y)))))\n",
    "y = [label_dict[c] for c in y]\n",
    "print(len(y))\n",
    "print(y[-10:])"
   ]
  },
  {
   "cell_type": "code",
   "execution_count": 4,
   "metadata": {},
   "outputs": [
    {
     "name": "stderr",
     "output_type": "stream",
     "text": [
      "Using TensorFlow backend.\n"
     ]
    }
   ],
   "source": [
    "from keras.utils.np_utils import to_categorical\n",
    "y = to_categorical(y)"
   ]
  },
  {
   "cell_type": "code",
   "execution_count": 5,
   "metadata": {},
   "outputs": [],
   "source": [
    "from konlpy.tag import Okt #konlpy에서 Twitter 형태소 분석기를 import\n",
    "#from konlpy.tag import Twitter #konlpy에서 Twitter 형태소 분석기를 import\n",
    "twitter_tag = Okt()\n",
    "#twitter_tag = Twitter()"
   ]
  },
  {
   "cell_type": "code",
   "execution_count": 19,
   "metadata": {},
   "outputs": [
    {
     "name": "stdout",
     "output_type": "stream",
     "text": [
      "['내', '졸라']\n"
     ]
    }
   ],
   "source": [
    "print(twitter_tag.nouns(text[4]))"
   ]
  },
  {
   "cell_type": "code",
   "execution_count": 7,
   "metadata": {},
   "outputs": [],
   "source": [
    "from seqGenKor import SequenceGenKor"
   ]
  },
  {
   "cell_type": "code",
   "execution_count": 20,
   "metadata": {},
   "outputs": [
    {
     "name": "stdout",
     "output_type": "stream",
     "text": [
      "voca_size 10380\n"
     ]
    }
   ],
   "source": [
    "num_words = 10000\n",
    "seq = SequenceGenKor(twitter_tag.nouns, num_words=num_words, min_token_len=1)\n",
    "#seq = SequenceGenKor(twitter_tag.morphs, num_words=num_words, min_token_len=1)\n",
    "seq.fit_on_texts(text)\n",
    "X = seq.texts_to_sequences(text)\n",
    "print('voca_size', len(seq.voca))"
   ]
  },
  {
   "cell_type": "code",
   "execution_count": 21,
   "metadata": {},
   "outputs": [
    {
     "name": "stdout",
     "output_type": "stream",
     "text": [
      "[[412, 1296, 1120], [387, 115], [5437], [274, 1121, 984, 64, 1231, 1579, 342, 534, 3200, 243], [36, 1122], [109], [5, 413, 71], [71, 149], [19, 331, 3201, 736, 2409], [101, 198, 3992], [9], [91, 5438]]\n"
     ]
    }
   ],
   "source": [
    "print(X[:12])"
   ]
  },
  {
   "cell_type": "code",
   "execution_count": 22,
   "metadata": {},
   "outputs": [
    {
     "data": {
      "text/plain": [
       "['헐..다 죽었어....나중에 앤트맨 보다가도 깜놀...',\n",
       " '충격 결말',\n",
       " '응집력',\n",
       " '개연성은 무시해라 액션을 즐겨라 스타로드가 이끌어준다 각각의 영웅들을 즐겨라 그리고 단적인 신념이 얼마나 부질없는지 보셔라',\n",
       " '내가졸라이상하네',\n",
       " '대박',\n",
       " '정말 지루할틈없이 넘잘만들었다 역시 대단하다',\n",
       " '역시 어벤져스!!',\n",
       " '마지막에 누구한테 연락한거지? 궁금',\n",
       " '다음 편이 궁굼해지네요^^',\n",
       " '안잼있는사람 있음???????????',\n",
       " '타노스 개갞기']"
      ]
     },
     "execution_count": 22,
     "metadata": {},
     "output_type": "execute_result"
    }
   ],
   "source": [
    "text[:12]"
   ]
  },
  {
   "cell_type": "code",
   "execution_count": 23,
   "metadata": {},
   "outputs": [
    {
     "name": "stdout",
     "output_type": "stream",
     "text": [
      "[   0    0    0    0    0    0    0    0    0    0    0    0    0    0\n",
      "    0    0    0  412 1296 1120]\n"
     ]
    }
   ],
   "source": [
    "from keras import preprocessing\n",
    "\n",
    "maxlen = 20\n",
    "\n",
    "X = preprocessing.sequence.pad_sequences(X, maxlen=maxlen, truncating='pre')\n",
    "print(X[0])"
   ]
  },
  {
   "cell_type": "code",
   "execution_count": 24,
   "metadata": {},
   "outputs": [
    {
     "name": "stdout",
     "output_type": "stream",
     "text": [
      "Train set count: 11973\n",
      "Test set count: 2994\n",
      "Test samples: [[0. 0. 0. 0. 0. 1. 0.]\n",
      " [0. 0. 0. 0. 0. 1. 0.]\n",
      " [0. 0. 0. 1. 0. 0. 0.]\n",
      " [0. 0. 0. 0. 1. 0. 0.]\n",
      " [0. 0. 0. 0. 0. 1. 0.]\n",
      " [0. 0. 0. 1. 0. 0. 0.]\n",
      " [0. 1. 0. 0. 0. 0. 0.]\n",
      " [0. 0. 0. 0. 0. 1. 0.]\n",
      " [0. 0. 0. 1. 0. 0. 0.]\n",
      " [0. 0. 0. 0. 1. 0. 0.]\n",
      " [0. 0. 1. 0. 0. 0. 0.]\n",
      " [0. 0. 1. 0. 0. 0. 0.]\n",
      " [0. 0. 0. 0. 0. 0. 1.]\n",
      " [0. 0. 0. 0. 0. 1. 0.]\n",
      " [0. 0. 0. 0. 0. 1. 0.]\n",
      " [0. 0. 1. 0. 0. 0. 0.]\n",
      " [0. 0. 0. 1. 0. 0. 0.]\n",
      " [0. 0. 0. 0. 0. 1. 0.]\n",
      " [0. 0. 0. 0. 0. 1. 0.]\n",
      " [0. 0. 0. 0. 0. 1. 0.]]\n"
     ]
    }
   ],
   "source": [
    "from sklearn.model_selection import train_test_split #sklearn에서 제공하는 split 함수를 사용\n",
    "X_train, X_test, y_train, y_test = train_test_split(X, y, test_size=0.2, random_state=10)\n",
    "# sklearn의 train_test_split 함수는 먼저 data set을 shuffle하고 주어진 비율에 따라 train set과 test set을 나눠 줌\n",
    "# 위에서는 reviews를 X_train과 X_test로 8:2의 비율로 나누고, categories를 y_train과 y_test로 나눔\n",
    "# 이 때 X와 y의 순서는 동일하게 유지해서 각 입력값과 label이 정확하게 match되도록 함\n",
    "# random_state는 shuffle에서의 seed 값으로, 지정한 경우 항상 동일한 결과로 shuffle이 됨\n",
    "\n",
    "print('Train set count:', len(X_train))\n",
    "print('Test set count:', len(X_test))\n",
    "print('Test samples:', y_test[:20])"
   ]
  },
  {
   "cell_type": "code",
   "execution_count": 25,
   "metadata": {},
   "outputs": [
    {
     "name": "stdout",
     "output_type": "stream",
     "text": [
      "_________________________________________________________________\n",
      "Layer (type)                 Output Shape              Param #   \n",
      "=================================================================\n",
      "embedding_2 (Embedding)      (None, None, 32)          320000    \n",
      "_________________________________________________________________\n",
      "lstm_2 (LSTM)                (None, 32)                8320      \n",
      "_________________________________________________________________\n",
      "dense_2 (Dense)              (None, 7)                 231       \n",
      "=================================================================\n",
      "Total params: 328,551\n",
      "Trainable params: 328,551\n",
      "Non-trainable params: 0\n",
      "_________________________________________________________________\n"
     ]
    }
   ],
   "source": [
    "from keras.layers import SimpleRNN, LSTM\n",
    "from keras.models import Sequential\n",
    "from keras.layers import Flatten, Dense, Embedding\n",
    "\n",
    "model = Sequential()\n",
    "model.add(Embedding(num_words, 32))\n",
    "#model.add(SimpleRNN(32))\n",
    "model.add(LSTM(32))\n",
    "model.add(Dense(7, activation='softmax'))\n",
    "model.summary()"
   ]
  },
  {
   "cell_type": "code",
   "execution_count": 26,
   "metadata": {},
   "outputs": [
    {
     "name": "stdout",
     "output_type": "stream",
     "text": [
      "Train on 9578 samples, validate on 2395 samples\n",
      "Epoch 1/30\n",
      "9578/9578 [==============================] - 3s 288us/step - loss: 1.8199 - acc: 0.3287 - val_loss: 1.7509 - val_acc: 0.3365\n",
      "Epoch 2/30\n",
      "9578/9578 [==============================] - 2s 176us/step - loss: 1.7051 - acc: 0.3439 - val_loss: 1.6461 - val_acc: 0.3624\n",
      "Epoch 3/30\n",
      "9578/9578 [==============================] - 2s 181us/step - loss: 1.5814 - acc: 0.4026 - val_loss: 1.5584 - val_acc: 0.4180\n",
      "Epoch 4/30\n",
      "9578/9578 [==============================] - 2s 188us/step - loss: 1.4743 - acc: 0.4428 - val_loss: 1.4830 - val_acc: 0.4397\n",
      "Epoch 5/30\n",
      "9578/9578 [==============================] - 2s 180us/step - loss: 1.3397 - acc: 0.4930 - val_loss: 1.3519 - val_acc: 0.5136\n",
      "Epoch 6/30\n",
      "9578/9578 [==============================] - 2s 211us/step - loss: 1.2113 - acc: 0.5534 - val_loss: 1.2712 - val_acc: 0.5541\n",
      "Epoch 7/30\n",
      "9578/9578 [==============================] - 2s 228us/step - loss: 1.1109 - acc: 0.6087 - val_loss: 1.2202 - val_acc: 0.5850\n",
      "Epoch 8/30\n",
      "9578/9578 [==============================] - 2s 207us/step - loss: 1.0226 - acc: 0.6531 - val_loss: 1.2352 - val_acc: 0.5775\n",
      "Epoch 9/30\n",
      "9578/9578 [==============================] - 2s 201us/step - loss: 0.9589 - acc: 0.6738 - val_loss: 1.1879 - val_acc: 0.6142\n",
      "Epoch 10/30\n",
      "9578/9578 [==============================] - 2s 233us/step - loss: 0.8972 - acc: 0.6991 - val_loss: 1.1282 - val_acc: 0.6154\n",
      "Epoch 11/30\n",
      "9578/9578 [==============================] - 2s 245us/step - loss: 0.8433 - acc: 0.7154 - val_loss: 1.1372 - val_acc: 0.6251\n",
      "Epoch 12/30\n",
      "9578/9578 [==============================] - 2s 244us/step - loss: 0.8077 - acc: 0.7286 - val_loss: 1.1040 - val_acc: 0.6372\n",
      "Epoch 13/30\n",
      "9578/9578 [==============================] - 3s 269us/step - loss: 0.7580 - acc: 0.7473 - val_loss: 1.1251 - val_acc: 0.6434\n",
      "Epoch 14/30\n",
      "9578/9578 [==============================] - 3s 275us/step - loss: 0.7235 - acc: 0.7608 - val_loss: 1.1365 - val_acc: 0.6422\n",
      "Epoch 15/30\n",
      "9578/9578 [==============================] - 2s 255us/step - loss: 0.6864 - acc: 0.7736 - val_loss: 1.2322 - val_acc: 0.5820 loss: 0.6938 - acc\n",
      "Epoch 16/30\n",
      "9578/9578 [==============================] - 2s 261us/step - loss: 0.6602 - acc: 0.7869 - val_loss: 1.1945 - val_acc: 0.6455\n",
      "Epoch 17/30\n",
      "9578/9578 [==============================] - 2s 232us/step - loss: 0.6319 - acc: 0.7941 - val_loss: 1.0997 - val_acc: 0.6484\n",
      "Epoch 18/30\n",
      "9578/9578 [==============================] - 2s 227us/step - loss: 0.5994 - acc: 0.8042 - val_loss: 1.1566 - val_acc: 0.6572\n",
      "Epoch 19/30\n",
      "9578/9578 [==============================] - 2s 240us/step - loss: 0.5750 - acc: 0.8100 - val_loss: 1.1109 - val_acc: 0.6593\n",
      "Epoch 20/30\n",
      "9578/9578 [==============================] - 3s 262us/step - loss: 0.5553 - acc: 0.8190 - val_loss: 1.0893 - val_acc: 0.6593\n",
      "Epoch 21/30\n",
      "9578/9578 [==============================] - 2s 237us/step - loss: 0.5312 - acc: 0.8254 - val_loss: 1.0975 - val_acc: 0.6430\n",
      "Epoch 22/30\n",
      "9578/9578 [==============================] - 2s 233us/step - loss: 0.5089 - acc: 0.8287 - val_loss: 1.1773 - val_acc: 0.6276\n",
      "Epoch 23/30\n",
      "9578/9578 [==============================] - 2s 228us/step - loss: 0.4950 - acc: 0.8307 - val_loss: 1.1474 - val_acc: 0.6225\n",
      "Epoch 24/30\n",
      "9578/9578 [==============================] - 2s 256us/step - loss: 0.4790 - acc: 0.8365 - val_loss: 1.1644 - val_acc: 0.6497\n",
      "Epoch 25/30\n",
      "9578/9578 [==============================] - 3s 285us/step - loss: 0.4687 - acc: 0.8393 - val_loss: 1.1037 - val_acc: 0.6589\n",
      "Epoch 26/30\n",
      "9578/9578 [==============================] - 2s 243us/step - loss: 0.4588 - acc: 0.8443 - val_loss: 1.1769 - val_acc: 0.6568\n",
      "Epoch 27/30\n",
      "9578/9578 [==============================] - 2s 227us/step - loss: 0.4464 - acc: 0.8469 - val_loss: 1.1948 - val_acc: 0.6630\n",
      "Epoch 28/30\n",
      "9578/9578 [==============================] - 2s 235us/step - loss: 0.4385 - acc: 0.8507 - val_loss: 1.1753 - val_acc: 0.6668\n",
      "Epoch 29/30\n",
      "9578/9578 [==============================] - 3s 332us/step - loss: 0.4303 - acc: 0.8516 - val_loss: 1.1530 - val_acc: 0.6559\n",
      "Epoch 30/30\n",
      "9578/9578 [==============================] - 2s 245us/step - loss: 0.4185 - acc: 0.8548 - val_loss: 1.2123 - val_acc: 0.6647\n"
     ]
    }
   ],
   "source": [
    "model.compile(optimizer='rmsprop', loss='categorical_crossentropy', metrics=['acc'])\n",
    "\n",
    "history = model.fit(X_train, y_train, \n",
    "                    epochs=30,\n",
    "                    batch_size=256,\n",
    "                    validation_split=0.2)"
   ]
  },
  {
   "cell_type": "code",
   "execution_count": 27,
   "metadata": {},
   "outputs": [
    {
     "data": {
      "image/png": "[encoded data removed]",
      "text/plain": [
       "<Figure size 432x288 with 1 Axes>"
      ]
     },
     "metadata": {
      "needs_background": "light"
     },
     "output_type": "display_data"
    }
   ],
   "source": [
    "%matplotlib inline\n",
    "import matplotlib.pyplot as plt\n",
    "\n",
    "history_dict = history.history\n",
    "acc = history_dict['acc']\n",
    "val_acc = history_dict['val_acc']\n",
    "\n",
    "epochs = range(1, len(acc) + 1)\n",
    "\n",
    "plt.plot(epochs, acc, 'bo', label='Training acc')\n",
    "plt.plot(epochs, val_acc, 'r', label='Validation acc')\n",
    "plt.title('Training and validation acc')\n",
    "plt.xlabel('Epochs')\n",
    "plt.ylabel('Accuracy')\n",
    "plt.legend()\n",
    "\n",
    "plt.show()"
   ]
  },
  {
   "cell_type": "code",
   "execution_count": 28,
   "metadata": {},
   "outputs": [
    {
     "name": "stdout",
     "output_type": "stream",
     "text": [
      "2994/2994 [==============================] - 0s 104us/step\n",
      "[1.1868019432088257, 0.6583166334257973]\n"
     ]
    }
   ],
   "source": [
    "score = model.evaluate(X_test, y_test)\n",
    "print(score)"
   ]
  },
  {
   "cell_type": "code",
   "execution_count": null,
   "metadata": {},
   "outputs": [],
   "source": []
  }
 ],
 "metadata": {
  "kernelspec": {
   "display_name": "Python 3",
   "language": "python",
   "name": "python3"
  },
  "language_info": {
   "codemirror_mode": {
    "name": "ipython",
    "version": 3
   },
   "file_extension": ".py",
   "mimetype": "text/x-python",
   "name": "python",
   "nbconvert_exporter": "python",
   "pygments_lexer": "ipython3",
   "version": "3.6.5"
  }
 },
 "nbformat": 4,
 "nbformat_minor": 2
}
