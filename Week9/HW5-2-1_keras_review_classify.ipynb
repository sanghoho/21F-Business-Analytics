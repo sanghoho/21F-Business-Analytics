{
 "cells": [
  {
   "cell_type": "markdown",
   "metadata": {},
   "source": [
    "# HW5-2-1 keras embedding을 이용한 문서 분류\n",
    "\n",
    "## 2021년 11월 07일 안상호\n",
    "\n",
    "> 영화리뷰 데이터 대상\n",
    "\n",
    "\n",
    "## 1. Baseline 모델\n",
    "\n",
    "### 1.1. 데이터 전처리"
   ]
  },
  {
   "cell_type": "code",
   "execution_count": 33,
   "metadata": {
    "ExecuteTime": {
     "end_time": "2021-11-07T07:31:03.707467Z",
     "start_time": "2021-11-07T07:31:03.701518Z"
    }
   },
   "outputs": [],
   "source": [
    "import tensorflow as tf\n",
    "from tensorflow import keras\n",
    "from tensorflow.keras import layers"
   ]
  },
  {
   "cell_type": "code",
   "execution_count": 6,
   "metadata": {
    "ExecuteTime": {
     "end_time": "2021-11-07T07:20:35.348666Z",
     "start_time": "2021-11-07T07:20:35.341668Z"
    }
   },
   "outputs": [],
   "source": [
    "import nltk\n",
    "from nltk.corpus import movie_reviews"
   ]
  },
  {
   "cell_type": "code",
   "execution_count": 7,
   "metadata": {
    "ExecuteTime": {
     "end_time": "2021-11-07T07:20:39.647985Z",
     "start_time": "2021-11-07T07:20:37.442786Z"
    }
   },
   "outputs": [
    {
     "name": "stderr",
     "output_type": "stream",
     "text": [
      "[nltk_data] Downloading package movie_reviews to\n",
      "[nltk_data]     C:\\Users\\ash11\\AppData\\Roaming\\nltk_data...\n",
      "[nltk_data]   Unzipping corpora\\movie_reviews.zip.\n"
     ]
    },
    {
     "data": {
      "text/plain": [
       "True"
      ]
     },
     "execution_count": 7,
     "metadata": {},
     "output_type": "execute_result"
    }
   ],
   "source": [
    "nltk.download('movie_reviews')"
   ]
  },
  {
   "cell_type": "code",
   "execution_count": 8,
   "metadata": {
    "ExecuteTime": {
     "end_time": "2021-11-07T07:20:57.039449Z",
     "start_time": "2021-11-07T07:20:44.021316Z"
    },
    "scrolled": true
   },
   "outputs": [
    {
     "name": "stdout",
     "output_type": "stream",
     "text": [
      "Reviews count: 2000\n",
      "Length of the first review: 4043\n",
      "Labels: {'pos', 'neg'}\n"
     ]
    }
   ],
   "source": [
    "fileids = movie_reviews.fileids() #movie review data에서 file id를 가져옴\n",
    "reviews = [movie_reviews.raw(fileid) for fileid in fileids] #file id를 이용해 raw text file을 가져옴\n",
    "categories = [movie_reviews.categories(fileid)[0] for fileid in fileids] \n",
    "#file id를 이용해 label로 사용할 category 즉 positive와 negative 정보를 순서대로 가져옴\n",
    "\n",
    "print('Reviews count:', len(reviews))\n",
    "print('Length of the first review:', len(reviews[0]))\n",
    "print('Labels:', set(categories))"
   ]
  },
  {
   "cell_type": "code",
   "execution_count": 24,
   "metadata": {
    "ExecuteTime": {
     "end_time": "2021-11-07T07:27:48.117714Z",
     "start_time": "2021-11-07T07:27:47.077398Z"
    }
   },
   "outputs": [
    {
     "name": "stdout",
     "output_type": "stream",
     "text": [
      "num of tokens: 43296\n"
     ]
    }
   ],
   "source": [
    "from tensorflow.keras.preprocessing.text import Tokenizer\n",
    "\n",
    "max_words = 10000\n",
    "\n",
    "tokenizer = Tokenizer(num_words=max_words)\n",
    "tokenizer.fit_on_texts(reviews)\n",
    "\n",
    "X = tokenizer.texts_to_sequences(reviews)\n",
    "# 일반적으로 0이면 unknown, 즉 전체단어의 수가 10000개 - num_words가 넘을 경우, index가 10000-1(for unknown)을 넘어가는 단어는 0으로 처리함\n",
    "#onehot_train = tokenizer.texts_to_matrix(X_train, mode='binary')\n",
    "\n",
    "print('num of tokens:', len(tokenizer.word_index))"
   ]
  },
  {
   "cell_type": "code",
   "execution_count": 25,
   "metadata": {
    "ExecuteTime": {
     "end_time": "2021-11-07T07:27:51.236811Z",
     "start_time": "2021-11-07T07:27:50.467781Z"
    }
   },
   "outputs": [
    {
     "data": {
      "text/plain": [
       "(2000, 10000)"
      ]
     },
     "execution_count": 25,
     "metadata": {},
     "output_type": "execute_result"
    }
   ],
   "source": [
    "bow = tokenizer.texts_to_matrix(reviews, mode='binary')\n",
    "bow.shape"
   ]
  },
  {
   "cell_type": "code",
   "execution_count": 26,
   "metadata": {
    "ExecuteTime": {
     "end_time": "2021-11-07T07:28:08.179591Z",
     "start_time": "2021-11-07T07:28:08.110567Z"
    }
   },
   "outputs": [
    {
     "name": "stdout",
     "output_type": "stream",
     "text": [
      "[  38    1  328   52   20  769   52   20   52   20    2    4  910  114\n",
      "   52   20 5277    4 1386  171    8  632    3   63    4    9    6  321\n",
      "   25 1957  143   18 2926  120  301  254    5 9489    2   15  150  143\n",
      "    3  102   16   44   35    9   91    6  256  103    1  164 2851  100\n",
      "    3  100  208   18   72  259    4 4077   42   82    2   94   45    6\n",
      "   14  247  954  353   37  613  294   14  133  801    5 3146   16    9\n",
      "  138    5  257    5 3146    9  308  313   64  369  493  226    3   75\n",
      "   36   86  171  439 2795   46   56 1747    7    1 5675   25   92    1\n",
      " 1280  204    6    8    1 4078    3   18  158 5676   19 1711   38   14\n",
      "   39   62  175 4079   63    4    9   40   21    1  268   84  212   39\n",
      "   35    4    1   82    8  197  442    5   86    2   98  251    4  261\n",
      "   16    9  137  248    1   86    1   15   35    8   43  439   18  618\n",
      "    1 1486  311   11  121   38   14    6    8   34  167  245   86  276\n",
      "    8    1  161    6   55    9   56  141   36   20  284    1  801    5\n",
      " 2016  169  145    4 2329   18  570  963 7840  426  221   28 3863   12\n",
      "   41 1430  226  457    1   26    6   50 1684 3592 1123   62   72    9\n",
      "   52   20  101 3024   33    3   62  120  118   27   36   20   75   62\n",
      "   92  437    5   83    9  100    3  100  208   96   41  665  132  316\n",
      "  114 3288 1044 2440   55   35    4    1  159  149    7    1   26  682\n",
      "    1  929  874   14   15  221   28   64  123    3    9   42  491    3\n",
      "    9  336   52 8856   69    2  271  875  948  301 6461   26    7  128\n",
      " 1102   16   18  618    1 2852 1325    8 1729    9   55    2  289  431\n",
      "   11   98 1326   68   86   43  261    1  209   20  271   61   12    1\n",
      "   63  204  187 2594   50  675    5   22  388    1 2109  164   74    8\n",
      "   17  197    7  258 1034   57    7    2  113 5278   16  106  954 5279\n",
      "  130   40    5   27 1543   33  181  457    1  339   15    3  175   32\n",
      "   34  621   33 1526  898    1   15  116 1993   85    9  116 2476   37\n",
      " 1471    9 1358    3    9  648  271 7098   12   63    4   64  400    2\n",
      "  271  690  324    3 1994    5   35    4    1    8  770  141    9  657\n",
      "    3   21    1   84   14    6   25    2  295   46  948 1649  731   37\n",
      "   50    5  177    8   84   85  371    6  682 6792    8    1  521    6\n",
      "  137 1132   11    1  440    9   71 3210  460   76  174  714    3   32\n",
      "   69 1487   19    1 7443  193  194 1045 2853    9 3980 4204  504   28\n",
      "    2 2214    4 7099 1003  640 1211  302 1446 1315  314 1211  302    1\n",
      " 2518 1853  302    1 2518 7100  749  302  341 4203  302  302 8855  302\n",
      "  302    1  485 1853  302 4341    4 3864 1022  302]\n"
     ]
    }
   ],
   "source": [
    "from tensorflow.keras import preprocessing\n",
    "\n",
    "maxlen = 500\n",
    "\n",
    "X = preprocessing.sequence.pad_sequences(X, maxlen=maxlen, truncating='pre')\n",
    "print(X[0])"
   ]
  },
  {
   "cell_type": "code",
   "execution_count": 27,
   "metadata": {
    "ExecuteTime": {
     "end_time": "2021-11-07T07:28:10.887745Z",
     "start_time": "2021-11-07T07:28:10.876731Z"
    }
   },
   "outputs": [
    {
     "name": "stdout",
     "output_type": "stream",
     "text": [
      "[1, 1, 1, 1, 1, 1, 1, 1, 1, 1]\n"
     ]
    }
   ],
   "source": [
    "label_dict = {'pos':0, 'neg':1}\n",
    "y = [label_dict[c] for c in categories]\n",
    "print(y[:10])"
   ]
  },
  {
   "cell_type": "code",
   "execution_count": 55,
   "metadata": {
    "ExecuteTime": {
     "end_time": "2021-11-07T07:43:34.970472Z",
     "start_time": "2021-11-07T07:43:34.947421Z"
    }
   },
   "outputs": [
    {
     "name": "stdout",
     "output_type": "stream",
     "text": [
      "Train set count: 1600\n",
      "Test set count: 400\n",
      "Test samples: [1 0 0 1 0 0 1 1 1 1 0 0 1 1 0 1 1 0 0 0]\n"
     ]
    }
   ],
   "source": [
    "import numpy as np\n",
    "\n",
    "from sklearn.model_selection import train_test_split #sklearn에서 제공하는 split 함수를 사용\n",
    "X_train, X_test, y_train, y_test = train_test_split(np.array(X), np.array(y), test_size=0.2, random_state=10)\n",
    "# sklearn의 train_test_split 함수는 먼저 data set을 shuffle하고 주어진 비율에 따라 train set과 test set을 나눠 줌\n",
    "# 위에서는 reviews를 X_train과 X_test로 8:2의 비율로 나누고, categories를 y_train과 y_test로 나눔\n",
    "# 이 때 X와 y의 순서는 동일하게 유지해서 각 입력값과 label이 정확하게 match되도록 함\n",
    "# random_state는 shuffle에서의 seed 값으로, 지정한 경우 항상 동일한 결과로 shuffle이 됨\n",
    "\n",
    "print('Train set count:', len(X_train))\n",
    "print('Test set count:', len(X_test))\n",
    "print('Test samples:', y_test[:20])"
   ]
  },
  {
   "cell_type": "markdown",
   "metadata": {},
   "source": [
    "### 1.2. 베이스 라인 모델 학습"
   ]
  },
  {
   "cell_type": "code",
   "execution_count": 58,
   "metadata": {
    "ExecuteTime": {
     "end_time": "2021-11-07T07:44:04.649403Z",
     "start_time": "2021-11-07T07:43:59.290225Z"
    }
   },
   "outputs": [
    {
     "name": "stdout",
     "output_type": "stream",
     "text": [
      "Model: \"sequential_15\"\n",
      "_________________________________________________________________\n",
      " Layer (type)                Output Shape              Param #   \n",
      "=================================================================\n",
      " embedding_13 (Embedding)    (None, 500, 32)           320000    \n",
      "                                                                 \n",
      " flatten_11 (Flatten)        (None, 16000)             0         \n",
      "                                                                 \n",
      " dense_17 (Dense)            (None, 1)                 16001     \n",
      "                                                                 \n",
      "=================================================================\n",
      "Total params: 336,001\n",
      "Trainable params: 336,001\n",
      "Non-trainable params: 0\n",
      "_________________________________________________________________\n",
      "Epoch 1/30\n",
      "7/7 [==============================] - 1s 34ms/step - loss: 0.6934 - acc: 0.5163 - val_loss: 0.6875 - val_acc: 0.5725\n",
      "Epoch 2/30\n",
      "7/7 [==============================] - 0s 26ms/step - loss: 0.6385 - acc: 0.8631 - val_loss: 0.6853 - val_acc: 0.5925\n",
      "Epoch 3/30\n",
      "7/7 [==============================] - 0s 25ms/step - loss: 0.5960 - acc: 0.9538 - val_loss: 0.6801 - val_acc: 0.6000\n",
      "Epoch 4/30\n",
      "7/7 [==============================] - 0s 23ms/step - loss: 0.5475 - acc: 0.9644 - val_loss: 0.6732 - val_acc: 0.6150\n",
      "Epoch 5/30\n",
      "7/7 [==============================] - 0s 23ms/step - loss: 0.4950 - acc: 0.9719 - val_loss: 0.6656 - val_acc: 0.6175\n",
      "Epoch 6/30\n",
      "7/7 [==============================] - 0s 22ms/step - loss: 0.4384 - acc: 0.9875 - val_loss: 0.6530 - val_acc: 0.6600\n",
      "Epoch 7/30\n",
      "7/7 [==============================] - 0s 24ms/step - loss: 0.3808 - acc: 0.9844 - val_loss: 0.6411 - val_acc: 0.6725\n",
      "Epoch 8/30\n",
      "7/7 [==============================] - 0s 25ms/step - loss: 0.3238 - acc: 0.9944 - val_loss: 0.6273 - val_acc: 0.7200\n",
      "Epoch 9/30\n",
      "7/7 [==============================] - 0s 21ms/step - loss: 0.2717 - acc: 0.9981 - val_loss: 0.6127 - val_acc: 0.6850\n",
      "Epoch 10/30\n",
      "7/7 [==============================] - 0s 22ms/step - loss: 0.2246 - acc: 0.9969 - val_loss: 0.6031 - val_acc: 0.6875\n",
      "Epoch 11/30\n",
      "7/7 [==============================] - 0s 22ms/step - loss: 0.1838 - acc: 0.9994 - val_loss: 0.5834 - val_acc: 0.7300\n",
      "Epoch 12/30\n",
      "7/7 [==============================] - 0s 22ms/step - loss: 0.1484 - acc: 0.9994 - val_loss: 0.5699 - val_acc: 0.7150\n",
      "Epoch 13/30\n",
      "7/7 [==============================] - 0s 22ms/step - loss: 0.1197 - acc: 0.9987 - val_loss: 0.5592 - val_acc: 0.7275\n",
      "Epoch 14/30\n",
      "7/7 [==============================] - 0s 25ms/step - loss: 0.0944 - acc: 0.9994 - val_loss: 0.5461 - val_acc: 0.7325\n",
      "Epoch 15/30\n",
      "7/7 [==============================] - 0s 23ms/step - loss: 0.0742 - acc: 1.0000 - val_loss: 0.5401 - val_acc: 0.7250\n",
      "Epoch 16/30\n",
      "7/7 [==============================] - 0s 21ms/step - loss: 0.0583 - acc: 1.0000 - val_loss: 0.5352 - val_acc: 0.7225\n",
      "Epoch 17/30\n",
      "7/7 [==============================] - 0s 22ms/step - loss: 0.0455 - acc: 1.0000 - val_loss: 0.5218 - val_acc: 0.7450\n",
      "Epoch 18/30\n",
      "7/7 [==============================] - 0s 26ms/step - loss: 0.0352 - acc: 1.0000 - val_loss: 0.5103 - val_acc: 0.7475\n",
      "Epoch 19/30\n",
      "7/7 [==============================] - 0s 23ms/step - loss: 0.0272 - acc: 1.0000 - val_loss: 0.5047 - val_acc: 0.7500\n",
      "Epoch 20/30\n",
      "7/7 [==============================] - 0s 22ms/step - loss: 0.0209 - acc: 1.0000 - val_loss: 0.5079 - val_acc: 0.7550\n",
      "Epoch 21/30\n",
      "7/7 [==============================] - 0s 22ms/step - loss: 0.0160 - acc: 1.0000 - val_loss: 0.5006 - val_acc: 0.7625\n",
      "Epoch 22/30\n",
      "7/7 [==============================] - 0s 22ms/step - loss: 0.0122 - acc: 1.0000 - val_loss: 0.4879 - val_acc: 0.7500\n",
      "Epoch 23/30\n",
      "7/7 [==============================] - 0s 22ms/step - loss: 0.0093 - acc: 1.0000 - val_loss: 0.4838 - val_acc: 0.7550\n",
      "Epoch 24/30\n",
      "7/7 [==============================] - 0s 21ms/step - loss: 0.0070 - acc: 1.0000 - val_loss: 0.4871 - val_acc: 0.7625\n",
      "Epoch 25/30\n",
      "7/7 [==============================] - 0s 25ms/step - loss: 0.0053 - acc: 1.0000 - val_loss: 0.4776 - val_acc: 0.7550\n",
      "Epoch 26/30\n",
      "7/7 [==============================] - 0s 25ms/step - loss: 0.0040 - acc: 1.0000 - val_loss: 0.4758 - val_acc: 0.7500\n",
      "Epoch 27/30\n",
      "7/7 [==============================] - 0s 22ms/step - loss: 0.0030 - acc: 1.0000 - val_loss: 0.4757 - val_acc: 0.7475\n",
      "Epoch 28/30\n",
      "7/7 [==============================] - 0s 22ms/step - loss: 0.0022 - acc: 1.0000 - val_loss: 0.4768 - val_acc: 0.7525\n",
      "Epoch 29/30\n",
      "7/7 [==============================] - 0s 24ms/step - loss: 0.0017 - acc: 1.0000 - val_loss: 0.4777 - val_acc: 0.7625\n",
      "Epoch 30/30\n",
      "7/7 [==============================] - 0s 25ms/step - loss: 0.0012 - acc: 1.0000 - val_loss: 0.4750 - val_acc: 0.7500\n"
     ]
    }
   ],
   "source": [
    "# from tensorflow.keras.models import Sequential\n",
    "from tensorflow.keras.layers import Flatten, Dense, Embedding\n",
    "\n",
    "model = keras.Sequential()\n",
    "model.add(Embedding(max_words, 32, input_length=maxlen))\n",
    "model.add(Flatten())\n",
    "model.add(Dense(1, activation='sigmoid'))\n",
    "model.compile(optimizer='rmsprop', loss='binary_crossentropy', metrics=['acc'])\n",
    "model.summary()\n",
    "\n",
    "history = model.fit(\n",
    "    X_train,\n",
    "    y_train,\n",
    "    batch_size=256,\n",
    "    epochs=30,\n",
    "    # We pass some validation for\n",
    "    # monitoring validation loss and metrics\n",
    "    # at the end of each epoch\n",
    "    validation_data=(X_test, y_test),\n",
    ")"
   ]
  },
  {
   "cell_type": "markdown",
   "metadata": {},
   "source": [
    "### 1.3. 베이스라인 모델 평가"
   ]
  },
  {
   "cell_type": "code",
   "execution_count": 59,
   "metadata": {
    "ExecuteTime": {
     "end_time": "2021-11-07T07:44:06.694041Z",
     "start_time": "2021-11-07T07:44:06.568647Z"
    }
   },
   "outputs": [
    {
     "data": {
      "image/png": "[encoded data removed]",
      "text/plain": [
       "<Figure size 432x288 with 1 Axes>"
      ]
     },
     "metadata": {
      "needs_background": "light"
     },
     "output_type": "display_data"
    }
   ],
   "source": [
    "%matplotlib inline\n",
    "import matplotlib.pyplot as plt\n",
    "\n",
    "history_dict = history.history\n",
    "loss = history_dict['loss']\n",
    "val_loss = history_dict['val_loss']\n",
    "\n",
    "epochs = range(1, len(loss) + 1)\n",
    "\n",
    "plt.plot(epochs, loss, 'bo', label='Training loss')\n",
    "plt.plot(epochs, val_loss, 'r', label='Validation loss')\n",
    "plt.title('Training and validation loss')\n",
    "plt.xlabel('Epochs')\n",
    "plt.ylabel('Loss')\n",
    "plt.legend()\n",
    "\n",
    "plt.show()"
   ]
  },
  {
   "cell_type": "code",
   "execution_count": 60,
   "metadata": {
    "ExecuteTime": {
     "end_time": "2021-11-07T07:44:10.618568Z",
     "start_time": "2021-11-07T07:44:10.538571Z"
    }
   },
   "outputs": [
    {
     "name": "stdout",
     "output_type": "stream",
     "text": [
      "13/13 [==============================] - 0s 2ms/step - loss: 0.4750 - acc: 0.7500\n",
      "[0.4749546945095062, 0.75]\n"
     ]
    }
   ],
   "source": [
    "score = model.evaluate(X_test, y_test)\n",
    "print(score)"
   ]
  },
  {
   "cell_type": "markdown",
   "metadata": {},
   "source": [
    "## 2. LSTM 기반 모델링"
   ]
  },
  {
   "cell_type": "code",
   "execution_count": 61,
   "metadata": {
    "ExecuteTime": {
     "end_time": "2021-11-07T07:44:41.860331Z",
     "start_time": "2021-11-07T07:44:41.678769Z"
    }
   },
   "outputs": [
    {
     "name": "stdout",
     "output_type": "stream",
     "text": [
      "Model: \"sequential_16\"\n",
      "_________________________________________________________________\n",
      " Layer (type)                Output Shape              Param #   \n",
      "=================================================================\n",
      " embedding_14 (Embedding)    (None, None, 32)          320000    \n",
      "                                                                 \n",
      " lstm_2 (LSTM)               (None, 32)                8320      \n",
      "                                                                 \n",
      " dense_18 (Dense)            (None, 1)                 33        \n",
      "                                                                 \n",
      "=================================================================\n",
      "Total params: 328,353\n",
      "Trainable params: 328,353\n",
      "Non-trainable params: 0\n",
      "_________________________________________________________________\n"
     ]
    }
   ],
   "source": [
    "from tensorflow.keras.layers import SimpleRNN, LSTM\n",
    "\n",
    "model = keras.Sequential()\n",
    "model.add(Embedding(max_words, 32))\n",
    "#model.add(SimpleRNN(32))\n",
    "model.add(LSTM(32))\n",
    "model.add(Dense(1, activation='sigmoid'))\n",
    "model.summary()"
   ]
  },
  {
   "cell_type": "code",
   "execution_count": 62,
   "metadata": {
    "ExecuteTime": {
     "end_time": "2021-11-07T07:48:10.032273Z",
     "start_time": "2021-11-07T07:44:46.562051Z"
    }
   },
   "outputs": [
    {
     "name": "stdout",
     "output_type": "stream",
     "text": [
      "Epoch 1/30\n",
      "7/7 [==============================] - 5s 517ms/step - loss: 0.6930 - acc: 0.5206 - val_loss: 0.6919 - val_acc: 0.5500\n",
      "Epoch 2/30\n",
      "7/7 [==============================] - 4s 575ms/step - loss: 0.6877 - acc: 0.6594 - val_loss: 0.6884 - val_acc: 0.5775\n",
      "Epoch 3/30\n",
      "7/7 [==============================] - 4s 566ms/step - loss: 0.6798 - acc: 0.7337 - val_loss: 0.6752 - val_acc: 0.6200\n",
      "Epoch 4/30\n",
      "7/7 [==============================] - 4s 614ms/step - loss: 0.6454 - acc: 0.7912 - val_loss: 0.6315 - val_acc: 0.6625\n",
      "Epoch 5/30\n",
      "7/7 [==============================] - 6s 863ms/step - loss: 0.5613 - acc: 0.7987 - val_loss: 0.6359 - val_acc: 0.6475\n",
      "Epoch 6/30\n",
      "7/7 [==============================] - 5s 749ms/step - loss: 0.5174 - acc: 0.8338 - val_loss: 0.6503 - val_acc: 0.6075\n",
      "Epoch 7/30\n",
      "7/7 [==============================] - 6s 902ms/step - loss: 0.4267 - acc: 0.8819 - val_loss: 0.5026 - val_acc: 0.7725\n",
      "Epoch 8/30\n",
      "7/7 [==============================] - 7s 1s/step - loss: 0.3671 - acc: 0.8913 - val_loss: 0.5248 - val_acc: 0.7825\n",
      "Epoch 9/30\n",
      "7/7 [==============================] - 6s 794ms/step - loss: 0.3448 - acc: 0.9256 - val_loss: 0.4430 - val_acc: 0.8075\n",
      "Epoch 10/30\n",
      "7/7 [==============================] - 5s 770ms/step - loss: 0.2661 - acc: 0.9375 - val_loss: 0.4729 - val_acc: 0.8150\n",
      "Epoch 11/30\n",
      "7/7 [==============================] - 6s 872ms/step - loss: 0.2501 - acc: 0.9525 - val_loss: 0.4626 - val_acc: 0.7750\n",
      "Epoch 12/30\n",
      "7/7 [==============================] - 6s 892ms/step - loss: 0.2101 - acc: 0.9606 - val_loss: 0.4675 - val_acc: 0.8100\n",
      "Epoch 13/30\n",
      "7/7 [==============================] - 6s 888ms/step - loss: 0.1640 - acc: 0.9744 - val_loss: 0.4334 - val_acc: 0.8225\n",
      "Epoch 14/30\n",
      "7/7 [==============================] - 6s 920ms/step - loss: 0.1632 - acc: 0.9725 - val_loss: 0.4227 - val_acc: 0.8225\n",
      "Epoch 15/30\n",
      "7/7 [==============================] - 7s 926ms/step - loss: 0.1319 - acc: 0.9831 - val_loss: 0.4349 - val_acc: 0.8000\n",
      "Epoch 16/30\n",
      "7/7 [==============================] - 7s 922ms/step - loss: 0.1595 - acc: 0.9569 - val_loss: 0.4742 - val_acc: 0.7800\n",
      "Epoch 17/30\n",
      "7/7 [==============================] - 7s 1s/step - loss: 0.1098 - acc: 0.9900 - val_loss: 0.4219 - val_acc: 0.8275\n",
      "Epoch 18/30\n",
      "7/7 [==============================] - 8s 1s/step - loss: 0.0808 - acc: 0.9919 - val_loss: 0.4607 - val_acc: 0.7850\n",
      "Epoch 19/30\n",
      "7/7 [==============================] - 8s 1s/step - loss: 0.0695 - acc: 0.9969 - val_loss: 0.4116 - val_acc: 0.8300\n",
      "Epoch 20/30\n",
      "7/7 [==============================] - 8s 1s/step - loss: 0.0655 - acc: 0.9894 - val_loss: 0.5207 - val_acc: 0.7325\n",
      "Epoch 21/30\n",
      "7/7 [==============================] - 8s 1s/step - loss: 0.1078 - acc: 0.9862 - val_loss: 0.4321 - val_acc: 0.8225\n",
      "Epoch 22/30\n",
      "7/7 [==============================] - 8s 1s/step - loss: 0.0367 - acc: 0.9994 - val_loss: 0.4477 - val_acc: 0.8300\n",
      "Epoch 23/30\n",
      "7/7 [==============================] - 8s 1s/step - loss: 0.0305 - acc: 1.0000 - val_loss: 0.6151 - val_acc: 0.7900\n",
      "Epoch 24/30\n",
      "7/7 [==============================] - 8s 1s/step - loss: 0.0328 - acc: 0.9987 - val_loss: 0.6051 - val_acc: 0.7950\n",
      "Epoch 25/30\n",
      "7/7 [==============================] - 8s 1s/step - loss: 0.0422 - acc: 0.9950 - val_loss: 0.5563 - val_acc: 0.8050\n",
      "Epoch 26/30\n",
      "7/7 [==============================] - 8s 1s/step - loss: 0.1612 - acc: 0.9506 - val_loss: 0.4777 - val_acc: 0.7850\n",
      "Epoch 27/30\n",
      "7/7 [==============================] - 8s 1s/step - loss: 0.0289 - acc: 0.9994 - val_loss: 0.4697 - val_acc: 0.8325\n",
      "Epoch 28/30\n",
      "7/7 [==============================] - 8s 1s/step - loss: 0.0191 - acc: 1.0000 - val_loss: 0.4860 - val_acc: 0.8325\n",
      "Epoch 29/30\n",
      "7/7 [==============================] - 8s 1s/step - loss: 0.0166 - acc: 1.0000 - val_loss: 0.5795 - val_acc: 0.8250\n",
      "Epoch 30/30\n",
      "7/7 [==============================] - 8s 1s/step - loss: 0.0147 - acc: 1.0000 - val_loss: 0.4827 - val_acc: 0.8425\n"
     ]
    }
   ],
   "source": [
    "model.compile(optimizer='rmsprop', loss='binary_crossentropy', metrics=['acc'])\n",
    "\n",
    "history = model.fit(X_train, y_train, \n",
    "                    epochs=30,\n",
    "                    batch_size=256,\n",
    "                    validation_data=(X_test, y_test))"
   ]
  },
  {
   "cell_type": "code",
   "execution_count": 63,
   "metadata": {
    "ExecuteTime": {
     "end_time": "2021-11-07T08:16:07.585997Z",
     "start_time": "2021-11-07T08:16:07.444009Z"
    }
   },
   "outputs": [
    {
     "data": {
      "image/png": "[encoded data removed]",
      "text/plain": [
       "<Figure size 432x288 with 1 Axes>"
      ]
     },
     "metadata": {
      "needs_background": "light"
     },
     "output_type": "display_data"
    }
   ],
   "source": [
    "history_dict = history.history\n",
    "loss = history_dict['loss']\n",
    "val_loss = history_dict['val_loss']\n",
    "\n",
    "epochs = range(1, len(loss) + 1)\n",
    "\n",
    "plt.plot(epochs, loss, 'bo', label='Training loss')\n",
    "plt.plot(epochs, val_loss, 'r', label='Validation loss')\n",
    "plt.title('Training and validation loss')\n",
    "plt.xlabel('Epochs')\n",
    "plt.ylabel('Loss')\n",
    "plt.legend()\n",
    "\n",
    "plt.show()"
   ]
  },
  {
   "cell_type": "code",
   "execution_count": 64,
   "metadata": {
    "ExecuteTime": {
     "end_time": "2021-11-07T08:16:15.471144Z",
     "start_time": "2021-11-07T08:16:15.356681Z"
    }
   },
   "outputs": [
    {
     "data": {
      "image/png": "[encoded data removed]",
      "text/plain": [
       "<Figure size 432x288 with 1 Axes>"
      ]
     },
     "metadata": {
      "needs_background": "light"
     },
     "output_type": "display_data"
    }
   ],
   "source": [
    "history_dict = history.history\n",
    "acc = history_dict['acc']\n",
    "val_acc = history_dict['val_acc']\n",
    "\n",
    "epochs = range(1, len(acc) + 1)\n",
    "\n",
    "plt.plot(epochs, acc, 'bo', label='Training acc')\n",
    "plt.plot(epochs, val_acc, 'r', label='Validation acc')\n",
    "plt.title('Training and validation acc')\n",
    "plt.xlabel('Epochs')\n",
    "plt.ylabel('Accuracy')\n",
    "plt.legend()\n",
    "\n",
    "plt.show()"
   ]
  },
  {
   "cell_type": "code",
   "execution_count": 65,
   "metadata": {
    "ExecuteTime": {
     "end_time": "2021-11-07T08:16:19.699898Z",
     "start_time": "2021-11-07T08:16:19.268689Z"
    }
   },
   "outputs": [
    {
     "name": "stdout",
     "output_type": "stream",
     "text": [
      "13/13 [==============================] - 0s 28ms/step - loss: 0.4827 - acc: 0.8425\n",
      "[0.4826851189136505, 0.8424999713897705]\n"
     ]
    }
   ],
   "source": [
    "score = model.evaluate(X_test, y_test)\n",
    "print(score)"
   ]
  },
  {
   "cell_type": "markdown",
   "metadata": {},
   "source": [
    "## 모델 성능 개선\n",
    "\n",
    "> **앞선 모델의 문제점**: train set의 크기가 너무 작다\n",
    ">> **해결방안**: train set을 충분히 늘리거나, pre-trained embedding vector를 사용\n",
    "\n",
    "\n",
    "### 3.1. pre-trained embedding을 사용\n",
    "GloVe: https://nlp.stanford.edu/projects/glove <br>\n",
    "다운 받아서 datasets 폴더 안에 압축을 풀고 그 중에서 glove.6B.100d.txt를 사용<br>\n",
    "\n",
    "파일 안의 모양: 단어 + 단어의 100차원 vector 집합으로 이루어져 있음<br>\n",
    "\n",
    "예) the -0.038194 -0.24487 0.72812 -0.39961 0.083172 0.043953 -0.39141 0.3344 -0.57545 0.087459 0.28787 -0.06731 0.30906 -0.26384 -0.13231 -0.20757 0.33395 -0.33848 -0.31743 -0.48336 0.1464 -0.37304 0.34577 0.052041 0.44946 -0.46971 0.02628 -0.54155 -0.15518 -0.14107 -0.039722 0.28277 0.14393 0.23464 -0.31021 0.086173 0.20397 0.52624 0.17164 -0.082378 -0.71787 -0.41531 0.20335 -0.12763 0.41367 0.55187 0.57908 -0.33477 -0.36559 -0.54857 -0.062892 0.26584 0.30205 0.99775 -0.80481 -3.0243 0.01254 -0.36942 2.2167 0.72201 -0.24978 0.92136 0.034514 0.46745 1.1079 -0.19358 -0.074575 0.23353 -0.052062 -0.22044 0.057162 -0.15806 -0.30798 -0.41625 0.37972 0.15006 -0.53212 -0.2055 -1.2526 0.071624 0.70565 0.49744 -0.42063 0.26148 -1.538 -0.30223 -0.073438 -0.28312 0.37104 -0.25217 0.016215 -0.017099 -0.38984 0.87424 -0.72569 -0.51058 -0.52028 -0.1459 0.8278 0.27062\n",
    "\n",
    "한 라인은 하나의 단어와 그 단어의 vector로 이루어져 있으므로, 각 라인에 대해 첫 token을 word로, 나머지 100 token을 vector로 변환하면 됨 "
   ]
  },
  {
   "cell_type": "code",
   "execution_count": 66,
   "metadata": {
    "ExecuteTime": {
     "end_time": "2021-11-07T08:27:15.057101Z",
     "start_time": "2021-11-07T08:27:04.338167Z"
    }
   },
   "outputs": [
    {
     "name": "stdout",
     "output_type": "stream",
     "text": [
      "Num of word vectors: 400000\n"
     ]
    }
   ],
   "source": [
    "glove_dir = './datasets/'\n",
    "import os\n",
    "import numpy as np\n",
    "\n",
    "embeddings_index = {}\n",
    "f = open(os.path.join(glove_dir, 'glove.6B.100d.txt'), encoding='utf8')\n",
    "for line in f:\n",
    "    values = line.split()\n",
    "    word = values[0]\n",
    "    coefs = np.asarray(values[1:], dtype='float32')\n",
    "    embeddings_index[word] = coefs\n",
    "f.close()\n",
    "\n",
    "print('Num of word vectors:', len(embeddings_index))"
   ]
  },
  {
   "cell_type": "code",
   "execution_count": 67,
   "metadata": {
    "ExecuteTime": {
     "end_time": "2021-11-07T08:27:17.009746Z",
     "start_time": "2021-11-07T08:27:17.001676Z"
    }
   },
   "outputs": [
    {
     "data": {
      "text/plain": [
       "43296"
      ]
     },
     "execution_count": 67,
     "metadata": {},
     "output_type": "execute_result"
    }
   ],
   "source": [
    "# 처음 데이터를 생성할 때 사용한 tokenizer에서 word_index를 추출\n",
    "# 이 word_index에 맞게 glove로부터 해당하는 word vector를 가져옴\n",
    "word_index = tokenizer.word_index\n",
    "len(word_index)"
   ]
  },
  {
   "cell_type": "code",
   "execution_count": 68,
   "metadata": {
    "ExecuteTime": {
     "end_time": "2021-11-07T08:27:19.953122Z",
     "start_time": "2021-11-07T08:27:19.905854Z"
    }
   },
   "outputs": [],
   "source": [
    "#embedding matrix를 생성: word_index에서 max_words 만큼의 단어에 대해 glove의 embeddings_index를 추출하여 matrix 생성\n",
    "#추출한 matrix는 embedding 층의 weight로 고정해서 사용함\n",
    "\n",
    "embedding_dim = 100 # glove의 vector dimension\n",
    "embedding_matrix = np.zeros((max_words, embedding_dim))\n",
    "for word, i in word_index.items():\n",
    "    if i < max_words:\n",
    "        embedding_vector = embeddings_index.get(word)\n",
    "        if embedding_vector is not None:\n",
    "            embedding_matrix[i] = embedding_vector"
   ]
  },
  {
   "cell_type": "code",
   "execution_count": 70,
   "metadata": {
    "ExecuteTime": {
     "end_time": "2021-11-07T08:27:47.194652Z",
     "start_time": "2021-11-07T08:27:46.993619Z"
    }
   },
   "outputs": [],
   "source": [
    "from tensorflow.keras.models import Sequential\n",
    "from tensorflow.keras.layers import Flatten, Dense, Embedding\n",
    "from tensorflow.keras.layers import SimpleRNN, LSTM\n",
    "\n",
    "model = Sequential()\n",
    "model.add(Embedding(max_words, embedding_dim))\n",
    "#model.add(SimpleRNN(32))\n",
    "model.add(LSTM(32))\n",
    "model.add(Dense(1, activation='sigmoid'))"
   ]
  },
  {
   "cell_type": "code",
   "execution_count": 71,
   "metadata": {
    "ExecuteTime": {
     "end_time": "2021-11-07T08:27:47.728842Z",
     "start_time": "2021-11-07T08:27:47.720853Z"
    }
   },
   "outputs": [
    {
     "name": "stdout",
     "output_type": "stream",
     "text": [
      "Model: \"sequential_17\"\n",
      "_________________________________________________________________\n",
      " Layer (type)                Output Shape              Param #   \n",
      "=================================================================\n",
      " embedding_15 (Embedding)    (None, None, 100)         1000000   \n",
      "                                                                 \n",
      " lstm_3 (LSTM)               (None, 32)                17024     \n",
      "                                                                 \n",
      " dense_19 (Dense)            (None, 1)                 33        \n",
      "                                                                 \n",
      "=================================================================\n",
      "Total params: 1,017,057\n",
      "Trainable params: 17,057\n",
      "Non-trainable params: 1,000,000\n",
      "_________________________________________________________________\n"
     ]
    }
   ],
   "source": [
    "model.layers[0].set_weights([embedding_matrix])\n",
    "model.layers[0].trainable = False #값을 고정\n",
    "model.summary()"
   ]
  },
  {
   "cell_type": "code",
   "execution_count": 74,
   "metadata": {
    "ExecuteTime": {
     "end_time": "2021-11-07T08:38:58.172051Z",
     "start_time": "2021-11-07T08:32:54.051039Z"
    }
   },
   "outputs": [
    {
     "name": "stdout",
     "output_type": "stream",
     "text": [
      "Epoch 1/30\n",
      "7/7 [==============================] - 10s 1s/step - loss: 0.6581 - acc: 0.6119 - val_loss: 0.6633 - val_acc: 0.5969\n",
      "Epoch 2/30\n",
      "7/7 [==============================] - 10s 1s/step - loss: 0.6401 - acc: 0.6331 - val_loss: 0.6379 - val_acc: 0.6375\n",
      "Epoch 3/30\n",
      "7/7 [==============================] - 12s 2s/step - loss: 0.6189 - acc: 0.6831 - val_loss: 0.6263 - val_acc: 0.6500\n",
      "Epoch 4/30\n",
      "7/7 [==============================] - 13s 2s/step - loss: 0.5963 - acc: 0.6856 - val_loss: 0.5845 - val_acc: 0.7094\n",
      "Epoch 5/30\n",
      "7/7 [==============================] - 14s 2s/step - loss: 0.5528 - acc: 0.7262 - val_loss: 0.5395 - val_acc: 0.7344\n",
      "Epoch 6/30\n",
      "7/7 [==============================] - 14s 2s/step - loss: 0.5381 - acc: 0.7319 - val_loss: 0.5143 - val_acc: 0.7469\n",
      "Epoch 7/30\n",
      "7/7 [==============================] - 12s 2s/step - loss: 0.4971 - acc: 0.7669 - val_loss: 0.4911 - val_acc: 0.7688\n",
      "Epoch 8/30\n",
      "7/7 [==============================] - 12s 2s/step - loss: 0.4679 - acc: 0.7869 - val_loss: 0.6106 - val_acc: 0.6719\n",
      "Epoch 9/30\n",
      "7/7 [==============================] - 12s 2s/step - loss: 0.5121 - acc: 0.7419 - val_loss: 0.4997 - val_acc: 0.7719\n",
      "Epoch 10/30\n",
      "7/7 [==============================] - 12s 2s/step - loss: 0.4723 - acc: 0.7869 - val_loss: 0.4507 - val_acc: 0.8062\n",
      "Epoch 11/30\n",
      "7/7 [==============================] - 12s 2s/step - loss: 0.4222 - acc: 0.8131 - val_loss: 0.4428 - val_acc: 0.7781\n",
      "Epoch 12/30\n",
      "7/7 [==============================] - 12s 2s/step - loss: 0.3968 - acc: 0.8213 - val_loss: 0.3803 - val_acc: 0.8406\n",
      "Epoch 13/30\n",
      "7/7 [==============================] - 12s 2s/step - loss: 0.3689 - acc: 0.8450 - val_loss: 0.3736 - val_acc: 0.8500\n",
      "Epoch 14/30\n",
      "7/7 [==============================] - 12s 2s/step - loss: 0.3798 - acc: 0.8306 - val_loss: 0.3703 - val_acc: 0.8219\n",
      "Epoch 15/30\n",
      "7/7 [==============================] - 12s 2s/step - loss: 0.3662 - acc: 0.8363 - val_loss: 0.3404 - val_acc: 0.8531\n",
      "Epoch 16/30\n",
      "7/7 [==============================] - 12s 2s/step - loss: 0.3205 - acc: 0.8637 - val_loss: 0.2997 - val_acc: 0.8656\n",
      "Epoch 17/30\n",
      "7/7 [==============================] - 12s 2s/step - loss: 0.3079 - acc: 0.8675 - val_loss: 0.2953 - val_acc: 0.8719\n",
      "Epoch 18/30\n",
      "7/7 [==============================] - 12s 2s/step - loss: 0.2740 - acc: 0.8831 - val_loss: 0.2748 - val_acc: 0.8875\n",
      "Epoch 19/30\n",
      "7/7 [==============================] - 12s 2s/step - loss: 0.2523 - acc: 0.9087 - val_loss: 0.3018 - val_acc: 0.8687\n",
      "Epoch 20/30\n",
      "7/7 [==============================] - 13s 2s/step - loss: 0.2379 - acc: 0.9031 - val_loss: 0.2133 - val_acc: 0.9125\n",
      "Epoch 21/30\n",
      "7/7 [==============================] - 12s 2s/step - loss: 0.2178 - acc: 0.9162 - val_loss: 0.2142 - val_acc: 0.9156\n",
      "Epoch 22/30\n",
      "7/7 [==============================] - 12s 2s/step - loss: 0.1889 - acc: 0.9250 - val_loss: 0.1930 - val_acc: 0.9156\n",
      "Epoch 23/30\n",
      "7/7 [==============================] - 12s 2s/step - loss: 0.1692 - acc: 0.9375 - val_loss: 0.2035 - val_acc: 0.8969\n",
      "Epoch 24/30\n",
      "7/7 [==============================] - 13s 2s/step - loss: 0.1642 - acc: 0.9394 - val_loss: 0.1611 - val_acc: 0.9469\n",
      "Epoch 25/30\n",
      "7/7 [==============================] - 12s 2s/step - loss: 0.1450 - acc: 0.9463 - val_loss: 0.1561 - val_acc: 0.9469\n",
      "Epoch 26/30\n",
      "7/7 [==============================] - 13s 2s/step - loss: 0.1507 - acc: 0.9488 - val_loss: 0.2295 - val_acc: 0.8750\n",
      "Epoch 27/30\n",
      "7/7 [==============================] - 12s 2s/step - loss: 0.1519 - acc: 0.9413 - val_loss: 0.1048 - val_acc: 0.9781\n",
      "Epoch 28/30\n",
      "7/7 [==============================] - 12s 2s/step - loss: 0.1180 - acc: 0.9613 - val_loss: 0.1579 - val_acc: 0.9281\n",
      "Epoch 29/30\n",
      "7/7 [==============================] - 12s 2s/step - loss: 0.1119 - acc: 0.9619 - val_loss: 0.0658 - val_acc: 0.9875\n",
      "Epoch 30/30\n",
      "7/7 [==============================] - 13s 2s/step - loss: 0.0782 - acc: 0.9781 - val_loss: 0.0629 - val_acc: 0.9844\n"
     ]
    }
   ],
   "source": [
    "from tensorflow.keras import optimizers\n",
    "#rmsprop = optimizers.RMSprop(lr=0.0001, rho=0.9, epsilon=None, decay=0.0) #default lr은 0.001\n",
    "#rmsprop = optimizers.RMSprop(lr=0.005) #default lr은 0.001\n",
    "adam = optimizers.Adam(lr=0.005) #default lr은 0.001\n",
    "\n",
    "# pre-train이 되어 있으므로 적은 수의 test set으로도 학습이 가능\n",
    "model.compile(optimizer=adam, loss='binary_crossentropy', metrics=['acc'])\n",
    "\n",
    "history = model.fit(X_train, y_train, \n",
    "                    epochs=30,\n",
    "                    batch_size=256,\n",
    "                    validation_data=(X_test, y_test)) \n",
    "#model.save_weights('pre_trained_glove_model.h5')"
   ]
  },
  {
   "cell_type": "code",
   "execution_count": 75,
   "metadata": {
    "ExecuteTime": {
     "end_time": "2021-11-07T08:41:02.379887Z",
     "start_time": "2021-11-07T08:41:02.256942Z"
    }
   },
   "outputs": [
    {
     "data": {
      "image/png": "[encoded data removed]",
      "text/plain": [
       "<Figure size 432x288 with 1 Axes>"
      ]
     },
     "metadata": {
      "needs_background": "light"
     },
     "output_type": "display_data"
    }
   ],
   "source": [
    "history_dict = history.history\n",
    "acc = history_dict['acc']\n",
    "val_acc = history_dict['val_acc']\n",
    "\n",
    "epochs = range(1, len(acc) + 1)\n",
    "\n",
    "plt.plot(epochs, acc, 'bo', label='Training acc')\n",
    "plt.plot(epochs, val_acc, 'r', label='Validation acc')\n",
    "plt.title('Training and validation acc')\n",
    "plt.xlabel('Epochs')\n",
    "plt.ylabel('Accuracy')\n",
    "plt.legend()\n",
    "\n",
    "plt.show()"
   ]
  },
  {
   "cell_type": "code",
   "execution_count": 76,
   "metadata": {
    "ExecuteTime": {
     "end_time": "2021-11-07T08:41:16.102349Z",
     "start_time": "2021-11-07T08:41:15.489362Z"
    }
   },
   "outputs": [
    {
     "name": "stdout",
     "output_type": "stream",
     "text": [
      "13/13 [==============================] - 1s 42ms/step - loss: 0.6115 - acc: 0.7725\n",
      "[0.6114870309829712, 0.7724999785423279]\n"
     ]
    }
   ],
   "source": [
    "score = model.evaluate(X_test, y_test)\n",
    "print(score)"
   ]
  },
  {
   "cell_type": "markdown",
   "metadata": {},
   "source": [
    "### 3.2. 정규화 모델\n",
    "\n",
    "- glove를 사용하지 않으면서 좀 더 정교한 모형을 사용하여 학습\n",
    "- optimizer를 정교하게 조정하고, regularizer를 추가"
   ]
  },
  {
   "cell_type": "code",
   "execution_count": 83,
   "metadata": {
    "ExecuteTime": {
     "end_time": "2021-11-07T08:47:48.836699Z",
     "start_time": "2021-11-07T08:47:48.318567Z"
    }
   },
   "outputs": [
    {
     "name": "stdout",
     "output_type": "stream",
     "text": [
      "Model: \"sequential_19\"\n",
      "_________________________________________________________________\n",
      " Layer (type)                Output Shape              Param #   \n",
      "=================================================================\n",
      " embedding_17 (Embedding)    (None, None, 32)          320000    \n",
      "                                                                 \n",
      " lstm_5 (LSTM)               (None, 32)                8320      \n",
      "                                                                 \n",
      " dense_21 (Dense)            (None, 1)                 33        \n",
      "                                                                 \n",
      "=================================================================\n",
      "Total params: 328,353\n",
      "Trainable params: 328,353\n",
      "Non-trainable params: 0\n",
      "_________________________________________________________________\n"
     ]
    }
   ],
   "source": [
    "from tensorflow.keras.layers import SimpleRNN, LSTM\n",
    "from tensorflow.keras import regularizers\n",
    "\n",
    "model = Sequential()\n",
    "model.add(Embedding(max_words, 32))\n",
    "#model.add(SimpleRNN(32))\n",
    "model.add(LSTM(32))\n",
    "#model.add(Dense(32, kernel_regularizer=regularizers.l2(0.01)))\n",
    "model.add(Dense(1, activation='sigmoid', kernel_regularizer=regularizers.l2(0.1))) #0.01을 먼저 시도했음\n",
    "\n",
    "model.summary()"
   ]
  },
  {
   "cell_type": "code",
   "execution_count": 84,
   "metadata": {
    "ExecuteTime": {
     "end_time": "2021-11-07T08:52:56.228054Z",
     "start_time": "2021-11-07T08:47:48.839705Z"
    }
   },
   "outputs": [
    {
     "name": "stdout",
     "output_type": "stream",
     "text": [
      "Epoch 1/30\n",
      "7/7 [==============================] - 10s 1s/step - loss: 0.8935 - acc: 0.5150 - val_loss: 0.8303 - val_acc: 0.5525\n",
      "Epoch 2/30\n",
      "7/7 [==============================] - 9s 1s/step - loss: 0.7638 - acc: 0.6950 - val_loss: 0.7673 - val_acc: 0.6525\n",
      "Epoch 3/30\n",
      "7/7 [==============================] - 9s 1s/step - loss: 0.6785 - acc: 0.7763 - val_loss: 0.7360 - val_acc: 0.6225\n",
      "Epoch 4/30\n",
      "7/7 [==============================] - 9s 1s/step - loss: 0.5225 - acc: 0.8938 - val_loss: 0.6817 - val_acc: 0.6850\n",
      "Epoch 5/30\n",
      "7/7 [==============================] - 11s 2s/step - loss: 0.4111 - acc: 0.9050 - val_loss: 0.6764 - val_acc: 0.6975\n",
      "Epoch 6/30\n",
      "7/7 [==============================] - 11s 1s/step - loss: 0.3428 - acc: 0.9394 - val_loss: 0.6950 - val_acc: 0.7000\n",
      "Epoch 7/30\n",
      "7/7 [==============================] - 11s 2s/step - loss: 0.2836 - acc: 0.9669 - val_loss: 0.6958 - val_acc: 0.7100\n",
      "Epoch 8/30\n",
      "7/7 [==============================] - 10s 1s/step - loss: 0.2324 - acc: 0.9756 - val_loss: 0.7258 - val_acc: 0.7125\n",
      "Epoch 9/30\n",
      "7/7 [==============================] - 10s 1s/step - loss: 0.1950 - acc: 0.9887 - val_loss: 1.0525 - val_acc: 0.6625\n",
      "Epoch 10/30\n",
      "7/7 [==============================] - 11s 1s/step - loss: 0.2829 - acc: 0.9506 - val_loss: 0.7643 - val_acc: 0.6475\n",
      "Epoch 11/30\n",
      "7/7 [==============================] - 10s 1s/step - loss: 0.2390 - acc: 0.9613 - val_loss: 0.7122 - val_acc: 0.6775\n",
      "Epoch 12/30\n",
      "7/7 [==============================] - 10s 1s/step - loss: 0.1552 - acc: 0.9981 - val_loss: 0.8346 - val_acc: 0.6800\n",
      "Epoch 13/30\n",
      "7/7 [==============================] - 10s 1s/step - loss: 0.1403 - acc: 0.9981 - val_loss: 0.7302 - val_acc: 0.7500\n",
      "Epoch 14/30\n",
      "7/7 [==============================] - 10s 1s/step - loss: 0.2768 - acc: 0.9306 - val_loss: 0.7459 - val_acc: 0.6725\n",
      "Epoch 15/30\n",
      "7/7 [==============================] - 10s 1s/step - loss: 0.1780 - acc: 0.9856 - val_loss: 0.7971 - val_acc: 0.7100\n",
      "Epoch 16/30\n",
      "7/7 [==============================] - 10s 1s/step - loss: 0.1345 - acc: 0.9994 - val_loss: 0.8052 - val_acc: 0.7200\n",
      "Epoch 17/30\n",
      "7/7 [==============================] - 10s 1s/step - loss: 0.1831 - acc: 0.9731 - val_loss: 0.7697 - val_acc: 0.6875\n",
      "Epoch 18/30\n",
      "7/7 [==============================] - 10s 1s/step - loss: 0.1283 - acc: 0.9987 - val_loss: 1.1514 - val_acc: 0.6350\n",
      "Epoch 19/30\n",
      "7/7 [==============================] - 10s 1s/step - loss: 0.2714 - acc: 0.9388 - val_loss: 0.7578 - val_acc: 0.6900\n",
      "Epoch 20/30\n",
      "7/7 [==============================] - 10s 1s/step - loss: 0.1274 - acc: 0.9975 - val_loss: 0.8310 - val_acc: 0.7125\n",
      "Epoch 21/30\n",
      "7/7 [==============================] - 10s 1s/step - loss: 0.1288 - acc: 0.9950 - val_loss: 0.7726 - val_acc: 0.7300\n",
      "Epoch 22/30\n",
      "7/7 [==============================] - 10s 1s/step - loss: 0.1133 - acc: 1.0000 - val_loss: 0.7813 - val_acc: 0.7375\n",
      "Epoch 23/30\n",
      "7/7 [==============================] - 10s 1s/step - loss: 0.1092 - acc: 1.0000 - val_loss: 0.8015 - val_acc: 0.7225\n",
      "Epoch 24/30\n",
      "7/7 [==============================] - 10s 1s/step - loss: 0.1112 - acc: 0.9981 - val_loss: 0.8137 - val_acc: 0.6575\n",
      "Epoch 25/30\n",
      "7/7 [==============================] - 10s 1s/step - loss: 0.1139 - acc: 0.9981 - val_loss: 0.7955 - val_acc: 0.7400\n",
      "Epoch 26/30\n",
      "7/7 [==============================] - 10s 1s/step - loss: 0.1921 - acc: 0.9588 - val_loss: 0.7752 - val_acc: 0.6550\n",
      "Epoch 27/30\n",
      "7/7 [==============================] - 10s 1s/step - loss: 0.1340 - acc: 0.9937 - val_loss: 1.0722 - val_acc: 0.6500\n",
      "Epoch 28/30\n",
      "7/7 [==============================] - 11s 1s/step - loss: 0.1693 - acc: 0.9756 - val_loss: 0.7584 - val_acc: 0.7075\n",
      "Epoch 29/30\n",
      "7/7 [==============================] - 11s 2s/step - loss: 0.1016 - acc: 1.0000 - val_loss: 0.7862 - val_acc: 0.7350\n",
      "Epoch 30/30\n",
      "7/7 [==============================] - 11s 2s/step - loss: 0.0990 - acc: 0.9994 - val_loss: 0.7733 - val_acc: 0.7250\n"
     ]
    }
   ],
   "source": [
    "from tensorflow.keras import optimizers\n",
    "#adam = optimizers.Adam(lr=0.005) #default lr은 0.001\n",
    "rmsprop = optimizers.RMSprop(lr=0.005) #default lr은 0.001\n",
    "\n",
    "model.compile(optimizer=rmsprop, loss='binary_crossentropy', metrics=['acc']) \n",
    "#lr 조절 없고 l2=0.01일 때 test 0.775 나옴\n",
    "\n",
    "history = model.fit(X_train, y_train, \n",
    "                    epochs=30,\n",
    "                    batch_size=256,\n",
    "                    validation_data=(X_test, y_test)) "
   ]
  },
  {
   "cell_type": "code",
   "execution_count": 85,
   "metadata": {
    "ExecuteTime": {
     "end_time": "2021-11-07T08:52:57.256383Z",
     "start_time": "2021-11-07T08:52:56.231040Z"
    }
   },
   "outputs": [
    {
     "name": "stdout",
     "output_type": "stream",
     "text": [
      "13/13 [==============================] - 1s 70ms/step - loss: 0.7733 - acc: 0.7250\n",
      "[0.7732846736907959, 0.7250000238418579]\n"
     ]
    }
   ],
   "source": [
    "score = model.evaluate(X_test, y_test)\n",
    "print(score)"
   ]
  }
 ],
 "metadata": {
  "kernelspec": {
   "display_name": "Python 3",
   "language": "python",
   "name": "python3"
  },
  "language_info": {
   "codemirror_mode": {
    "name": "ipython",
    "version": 3
   },
   "file_extension": ".py",
   "mimetype": "text/x-python",
   "name": "python",
   "nbconvert_exporter": "python",
   "pygments_lexer": "ipython3",
   "version": "3.9.5"
  },
  "toc": {
   "base_numbering": 1,
   "nav_menu": {},
   "number_sections": false,
   "sideBar": true,
   "skip_h1_title": false,
   "title_cell": "Table of Contents",
   "title_sidebar": "Contents",
   "toc_cell": false,
   "toc_position": {},
   "toc_section_display": true,
   "toc_window_display": false
  }
 },
 "nbformat": 4,
 "nbformat_minor": 2
}
