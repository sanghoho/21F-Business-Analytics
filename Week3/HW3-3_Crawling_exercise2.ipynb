{
 "cells": [
  {
   "cell_type": "markdown",
   "metadata": {
    "colab_type": "text",
    "id": "XXo7FgI-BE3p"
   },
   "source": [
    "# HW3-3 (Optional) 웹 크롤링2 - Dynamic Crawling\n",
    "\n",
    "## 2021년 09월 26일 안상호\n",
    "\n",
    "> 현재일 20:00 기준 실행 결과\n"
   ]
  },
  {
   "cell_type": "markdown",
   "metadata": {},
   "source": [
    "# 0. 라이브러리"
   ]
  },
  {
   "cell_type": "code",
   "execution_count": 2,
   "metadata": {
    "ExecuteTime": {
     "end_time": "2021-09-26T10:36:52.858731Z",
     "start_time": "2021-09-26T10:36:52.846451Z"
    },
    "colab": {},
    "colab_type": "code",
    "id": "nNq8r6zXBDnZ"
   },
   "outputs": [],
   "source": [
    "from selenium import webdriver\n",
    "from selenium.webdriver.common.by import By\n",
    "from selenium.webdriver.support.ui import WebDriverWait\n",
    "from selenium.webdriver.support import expected_conditions as EC\n",
    "from bs4 import BeautifulSoup\n",
    "import pandas as pd\n",
    "from pandas import DataFrame\n",
    "import time"
   ]
  },
  {
   "cell_type": "markdown",
   "metadata": {},
   "source": [
    "# 1. Selenium 기초\n",
    "\n",
    "자신의 크롬 버전을 확인하고 크롬 [웹드라이버](https://chromedriver.chromium.org/downloads)를 다운받아놓아야합니다.\n",
    "\n",
    "- 2020.09.13 기준 최신 버전: `85.0.4183.102`\n"
   ]
  },
  {
   "cell_type": "markdown",
   "metadata": {
    "colab_type": "text",
    "id": "RmXxkFRfBtr4"
   },
   "source": [
    "### 1.1. Simple Text Crawling\n",
    "멜론 사이트에서 노래 제목을 크롤링해보자\n",
    "\n",
    "URL: https://www.melon.com/chart/index.htm"
   ]
  },
  {
   "cell_type": "code",
   "execution_count": 3,
   "metadata": {
    "ExecuteTime": {
     "end_time": "2021-09-26T10:36:55.095666Z",
     "start_time": "2021-09-26T10:36:55.090757Z"
    }
   },
   "outputs": [],
   "source": [
    "DRIVER_PATH = 'D:/dev_files/webdrivers/chrome/chromedriver93.exe' # 현재 94 버전인데 93도 작동"
   ]
  },
  {
   "cell_type": "code",
   "execution_count": 4,
   "metadata": {
    "ExecuteTime": {
     "end_time": "2021-09-26T10:37:00.522251Z",
     "start_time": "2021-09-26T10:36:56.239507Z"
    },
    "colab": {
     "base_uri": "https://localhost:8080/",
     "height": 443
    },
    "colab_type": "code",
    "executionInfo": {
     "elapsed": 1719,
     "status": "error",
     "timestamp": 1588339660539,
     "user": {
      "displayName": "고한솔",
      "photoUrl": "",
      "userId": "09369304542252898649"
     },
     "user_tz": -540
    },
    "id": "rxj_JGgGBD1Q",
    "outputId": "9f748d80-b3d1-4050-c161-13d6b9099fbd"
   },
   "outputs": [
    {
     "data": {
      "text/plain": [
       "'STAY\\nThe Kid LAROI, Justin Bieber'"
      ]
     },
     "execution_count": 4,
     "metadata": {},
     "output_type": "execute_result"
    }
   ],
   "source": [
    " # chrome driver 설정\n",
    "driver = webdriver.Chrome(DRIVER_PATH) \n",
    "driver.implicitly_wait(10)\n",
    "\n",
    "url = \"https://www.melon.com/chart/index.htm\"\n",
    "\n",
    "driver.get(url)\n",
    "html = driver.page_source\n",
    "soup = BeautifulSoup(html, 'html.parser')\n",
    "\n",
    "# title crawling\n",
    "title = WebDriverWait(driver, 20) \\\n",
    "    .until(EC.presence_of_element_located((By.CSS_SELECTOR, \"#frm > div > table > tbody > tr:nth-child(1) > td:nth-child(6) > div > div\")))\n",
    "\n",
    "\n",
    "# print(\"Title: {}\".format(title.text))\n",
    "\n",
    "title.text"
   ]
  },
  {
   "cell_type": "markdown",
   "metadata": {},
   "source": [
    "css selector의 **`규칙`**을 찾아본다\n",
    "\n",
    "- 1번째 제목: #frm > div > table > tbody > tr:nth-child(**1**) > td:nth-child(6) > div > div\"\n",
    "- 2번째 제목: #frm > div > table > tbody > tr:nth-child(**2**) > td:nth-child(6) > div > div\n",
    "\n",
    ".\n",
    ".\n",
    ".\n",
    "\n",
    "- 100번째 제목: #frm > div > table > tbody > tr:nth-child(**100**) > td:nth-child(6) > div > div\n",
    "\n",
    "---\n",
    "\n",
    "또는 `XPATH`로도 확인해보자 (`full Xpath`)\n",
    "\n",
    "- 1번째 제목: //*[@id=\"frm\"]/div/table/tbody/tr[**1**]/td[4]/div/div\n",
    "- 2번째 제목: //*[@id=\"frm\"]/div/table/tbody/tr[**2**]/td[4]/div/div\n",
    "\n",
    ".\n",
    ".\n",
    ".\n",
    "\n",
    "- 50번째 제목: //*[@id=\"frm\"]/div/table/tbody/tr[**100**]/td[4]/div/div"
   ]
  },
  {
   "cell_type": "code",
   "execution_count": 6,
   "metadata": {
    "ExecuteTime": {
     "end_time": "2021-09-26T10:41:54.054713Z",
     "start_time": "2021-09-26T10:41:53.996766Z"
    }
   },
   "outputs": [
    {
     "data": {
      "text/plain": [
       "'STAY\\nThe Kid LAROI, Justin Bieber'"
      ]
     },
     "execution_count": 6,
     "metadata": {},
     "output_type": "execute_result"
    }
   ],
   "source": [
    "# 2번째 제목 크롤링\n",
    "WebDriverWait(driver, 20) \\\n",
    "    .until(EC.presence_of_element_located((By.XPATH, \"//*[@id='frm']/div/table/tbody/tr[1]/td[6]/div/div\"))).text"
   ]
  },
  {
   "cell_type": "markdown",
   "metadata": {},
   "source": [
    "### 1.2. Text Crawling with for loop\n",
    "\n",
    "위에서 찾은 Xpath의 규칙을 바탕으로 for loop 만들자"
   ]
  },
  {
   "cell_type": "code",
   "execution_count": 7,
   "metadata": {
    "ExecuteTime": {
     "end_time": "2021-09-26T10:42:09.430001Z",
     "start_time": "2021-09-26T10:42:04.421590Z"
    }
   },
   "outputs": [
    {
     "name": "stdout",
     "output_type": "stream",
     "text": [
      "['STAY\\nThe Kid LAROI, Justin Bieber', '신호등\\n이무진', 'My Universe\\nColdplay, 방탄소년단', 'OHAYO MY NIGHT\\n디핵 (D-Hack), PATEKO (파테코)', 'Permission to Dance\\n방탄소년단', 'Next Level\\naespa', '바라만 본다\\nMSG워너비(M.O.M)', 'Butter\\n방탄소년단', 'Weekend\\n태연 (TAEYEON)', '낙하 (with 아이유)\\nAKMU (악뮤)', 'Dynamite\\n방탄소년단', 'Peaches (Feat. Daniel Caesar & Giveon)\\nJustin Bieber', '좋아좋아\\n조정석', 'Queendom\\nRed Velvet (레드벨벳)', 'DUMB DUMB\\n전소미', 'Bad Habits\\nEd Sheeran', '다정히 내 이름을 부르면\\n경서예지, 전건호', '시간을 거슬러 (낮에 뜨는 달 X 케이윌)\\n케이윌', '헤픈 우연\\n헤이즈 (Heize)', '이제 나만 믿어요\\n임영웅', '가을 타나 봐\\n이무진', 'Sticker\\nNCT 127', '비와 당신\\n이무진', \"롤린 (Rollin')\\n브레이브걸스\", '고백\\n멜로망스', '라일락\\n아이유', 'Dun Dun Dance\\n오마이걸 (OH MY GIRL)', 'Celebrity\\n아이유', 'Savage Love (Laxed - Siren Beat) (BTS Remix)\\nJawsh 685, Jason Derulo, 방탄소년단', '별빛 같은 나의 사랑아\\n임영웅', 'ASAP\\nSTAYC(스테이씨)', '사이렌 Remix (Feat. UNEDUCATED KID, Paul Blanco)\\n호미들', '작은 것들을 위한 시 (Boy With Luv) (Feat. Halsey)\\n방탄소년단', '그대라는 사치\\n임영웅', '비가 오는 날엔 (2021)\\n헤이즈 (Heize)', 'HERO\\n임영웅', '색안경 (STEREOTYPE)\\nSTAYC(스테이씨)', '다시 사랑한다면 (김필 Ver.)\\n임영웅', '가을 우체국 앞에서\\n김대명', 'Lemonade\\nNCT 127', '봄날\\n방탄소년단', '찰나가 영원이 될 때 (The Eternal Moment)\\n마크툽 (MAKTUB)', '밝게 빛나는 별이 되어 비춰줄게\\n송이한', '하루만 더\\n빅마마', '끝사랑\\n임영웅', '내 손을 잡아\\n아이유', 'Life Goes On\\n방탄소년단', 'Bk Love\\n임영웅', '잊었니\\n임영웅', '안녕 (Hello)\\n조이 (JOY)']\n"
     ]
    }
   ],
   "source": [
    " # chrome driver 설정\n",
    "driver = webdriver.Chrome(DRIVER_PATH)\n",
    "driver.implicitly_wait(10)\n",
    "\n",
    "url = \"https://www.melon.com/chart/index.htm\"\n",
    "\n",
    "driver.get(url)\n",
    "html = driver.page_source\n",
    "soup = BeautifulSoup(html, 'html.parser')\n",
    "\n",
    "# 빈 리스트 변수\n",
    "title_list = []\n",
    "\n",
    "# title crawling (TOP 50)\n",
    "for i in range(1, 51):\n",
    "    title = WebDriverWait(driver, 20) \\\n",
    "        .until(EC.presence_of_element_located((By.XPATH, f\"//*[@id='frm']/div/table/tbody/tr[{i}]/td[6]/div/div\")))\n",
    "    title_list.append(title.text)\n",
    "    \n",
    "print(title_list)"
   ]
  },
  {
   "cell_type": "markdown",
   "metadata": {},
   "source": [
    "나중에 필요한 변수(제목, 가수, 가사... 등)을 모두 긁어 한번에 **데이터프레임**으로 저장하여 보관한다!"
   ]
  },
  {
   "cell_type": "markdown",
   "metadata": {},
   "source": [
    "### 1.3. Text Crawling (Click & Back)\n",
    "클릭하고 나오기 -> 동적 크롤링 가능 (**`가사`** 크롤링 가능)\n",
    "\n",
    "노래 제목에 링크가 걸려있기 때문에, 해당 링크까지의 **XPath**를 추가한다.\n",
    "\n",
    "> **현재는 가사 보기가 5번째 td로 옮겨짐**"
   ]
  },
  {
   "cell_type": "code",
   "execution_count": 14,
   "metadata": {
    "ExecuteTime": {
     "end_time": "2021-09-26T11:40:35.597827Z",
     "start_time": "2021-09-26T11:40:22.068366Z"
    }
   },
   "outputs": [],
   "source": [
    " # chrome driver 설정\n",
    "driver = webdriver.Chrome(DRIVER_PATH)\n",
    "driver.implicitly_wait(10)\n",
    "\n",
    "url = \"https://www.melon.com/chart/index.htm\"\n",
    "\n",
    "driver.get(url)\n",
    "html = driver.page_source\n",
    "soup = BeautifulSoup(html, 'html.parser')\n",
    "\n",
    "# 1번째 click하기\n",
    "click_element = WebDriverWait(driver, 20).until(EC.presence_of_element_located((By.XPATH, '//*[@id=\"frm\"]/div/table/tbody/tr[1]/td[5]/div/a')))\n",
    "click_element.click()    \n",
    "\n",
    "# back\n",
    "driver.back()\n",
    "\n",
    "\n",
    "# 2번째 click하기\n",
    "click_element = WebDriverWait(driver, 20).until(EC.presence_of_element_located((By.XPATH, '//*[@id=\"frm\"]/div/table/tbody/tr[2]/td[5]/div/a')))\n",
    "click_element.click()    \n",
    "\n",
    "# back\n",
    "driver.back()"
   ]
  },
  {
   "cell_type": "markdown",
   "metadata": {},
   "source": [
    "### 1.4. Text Crawling including contents\n",
    "\n",
    "- **1.2**처럼 for문과 함께 써보자! (첫 페이지 5개의 글에 대해 `title`, `artist`, `heart`(하트 갯수), `lyrics`(가사)를 크롤링\n",
    "\n",
    "- **1.3**에서 사용한 click & back을 활용하자"
   ]
  },
  {
   "cell_type": "code",
   "execution_count": 15,
   "metadata": {
    "ExecuteTime": {
     "end_time": "2021-09-26T11:41:58.969387Z",
     "start_time": "2021-09-26T11:41:41.975188Z"
    }
   },
   "outputs": [
    {
     "name": "stdout",
     "output_type": "stream",
     "text": [
      "['STAY', '신호등', 'My Universe', 'OHAYO MY NIGHT', 'Permission to Dance']\n",
      "['The Kid LAROI', '이무진', 'Coldplay', '디핵 (D-Hack)', '방탄소년단']\n",
      "['152,529', '215,209', '69,020', '133,397', '176,403']\n",
      "[\"I do the same thing I told you\\nthat I never would\\nI told you I'd change\\neven when I knew I never could\\nI know that I can't find\\nnobody else\\nas good as you\\nI need you to stay\\nneed you to stay hey Oh\\nI get drunk wake up\\nI'm wasted still\\nI realize the time\\nthat I wasted here\\nI feel like you can't\\nfeel the way I feel\\nOh I'll be fucked up\\nif you can't be right here\\nOh ooh-woah\\nOh ooh-woah ooh-woah\\nOh ooh-woah\\nOh ooh-woah ooh-woah\\nOh ooh-woah\\nOh ooh-woah ooh-woah\\nOh I'll be fucked up\\nif you can't be right here\\nI do the same thing I told you\\nthat I never would\\nI told you I'd change\\neven when I knew I never could\\nI know that I can't find\\nnobody else\\nas good as you\\nI need you to stay\\nneed you to stay hey\\nI do the same thing I told you\\nthat I never would\\nI told you I'd change\\neven when I knew I never could\\nI know that I can't find\\nnobody else\\nas good as you\\nI need you to stay\\nneed you to stay hey\\nWhen I'm away from you\\nI miss your touch Ooh\\nYou're the reason\\nI believe in love Ooh\\nIt's been difficult\\nfor me to trust Ooh\\nAnd I'm afraid\\nthat I'ma fuck it up Ooh\\nAin't no way\\nthat I can leave you stranded\\n'Cause you ain't ever left me\\nempty-handed\\nAnd you know that I know\\nthat I can't live without you\\nSo baby stay\\nOh ooh-woah\\nOh ooh-woah ooh-woah\\nOh ooh-woah\\nOh ooh-woah ooh-woah\\nOh ooh-woah\\nOh ooh-woah ooh-woah\\nI'll be fucked up\\nif you can't be right here\\nI do the same thing I told you\\nthat I never would\\nI told you I'd change\\neven when I knew I never could\\nI know that I can't find\\nnobody else\\nas good as you\\nI need you to stay\\nneed you to stay hey\\nI do the same thing\\nI told you that I never would\\nI told you I'd change\\neven when I knew I never could\\nI know that I can't find\\nnobody else\\nas good as you\\nI need you to stay\\nneed you to stay hey\\nWoah-oh\\nI need you to stay\\nneed you to stay hey\", '이제야 목적지를 정했지만\\n가려한 날 막아서네 난 갈 길이 먼데\\n새빨간 얼굴로 화를 냈던\\n친구가 생각나네\\n이미 난 발걸음을 떼었지만\\n가려한 날 재촉하네 걷기도 힘든데\\n새파랗게 겁에 질려 도망간\\n친구가 뇌에 맴도네\\n건반처럼 생긴 도로 위\\n수많은 동그라미들 모두가\\n멈췄다 굴렀다 말은 잘 들어\\n그건 나도 문제가 아냐\\n붉은색 푸른색 그 사이\\n3초 그 짧은 시간\\n노란색 빛을 내는\\n저기 저 신호등이\\n내 머릿속을 텅 비워버려\\n내가 빠른지도\\n느린지도 모르겠어\\n그저 눈앞이 샛노랄 뿐이야\\n솔직히 말하자면 차라리\\n운전대를 못 잡던 어릴 때가\\n더 좋았었던 것 같아\\n그땐 함께 온 세상을\\n거닐 친구가 있었으니\\n건반처럼 생긴 도로 위\\n수많은 조명들이 날 빠르게\\n번갈아 가며 비추고 있지만\\n난 아직 초짜란 말이야\\n붉은색 푸른색 그 사이\\n3초 그 짧은 시간\\n노란색 빛을 내는 저기 저 신호등이\\n내 머릿속을 텅 비워버려\\n내가 빠른지도\\n느린지도 모르겠어\\n그저 눈앞이 샛노랄 뿐이야\\n꼬질꼬질한 사람이나\\n부자 곁엔 아무도 없는\\n삼색 조명과 이색 칠 위에\\n서 있어 괴롭히지 마\\n붉은색 푸른색 그 사이\\n3초 그 짧은 시간\\n노란색 빛을 내는 저기 저 신호등이\\n내 머릿속을 텅 비워버려\\n내가 빠른지도\\n느린지도 모르겠어\\n그저 눈앞이 샛노랄 뿐이야', 'You, you are my universe and\\nI just want to put you first\\nAnd you, you are my universe, and I…\\n\\nIn the night I lie and look up at you\\nWhen the morning comes I watch you rise\\nThere’s a paradise they couldn’t capture\\nThat bright infinity inside your eyes\\n\\n매일 밤 네게 날아가 (가)\\n꿈이란 것도 잊은 채\\n나 웃으며 너를 만나 (나)\\nNever ending forever baby\\n\\nYou, you are my universe and\\nI just want to put you first\\nAnd you, you are my universe, and\\nYou make my world light up inside\\n\\n어둠이 내겐 더 편했었지\\n길어진 그림자 속에서 (eyes)\\n\\nAnd they said that we can’t be together\\nBecause\\nBecause we come from different sides\\n\\nYou, you are my universe and\\nI just want to put you first\\nAnd you, you are my universe, and\\nYou make my world light up inside\\n\\nMy universe (do do, do do)\\nMy universe (do do, do do)\\nMy universe (do do, do do)\\n(you make my world)\\nYou make my world light up inside\\n\\nMake my world light up inside\\n\\n나를 밝혀주는 건\\n너란 사랑으로 수 놓아진 별\\n내 우주의 넌\\n또 다른 세상을 만들어 주는 걸\\n\\n너는 내 별이자 나의 우주니까\\n지금 이 시련도 결국엔 잠시니까\\n너는 언제까지나 지금처럼 밝게만 빛나줘\\n우리는 너를 따라 이 긴 밤을 수놓을 거야\\n\\n너와 함께 날아가 (가)\\nWhen I’m without you I’m crazy\\n자 어서 내 손을 잡아 (아)\\nWe are made of each other baby\\n\\nYou, you are my universe and\\nI just want to put you first\\nAnd you, you are my universe, and\\nYou make my world light up inside\\n\\nMy universe (you, you are)\\nMy universe (I just want)\\nMy universe (you, you are)\\nMy universe, and I\\n\\nMy universe', '너를 사랑하고 있어\\n너를 사랑하고 있어\\n자기야 날 사랑해주면 안 될까\\n말처럼 쉽지는 않은 걸 알지만\\n세게 날 안아주면 안 될까\\n오늘따라 세상이 무섭단 말이야\\n잠깐 인공호흡을 해주라\\n왠지 숨이 잘 안 쉬어져서 난\\n날 놓을 거면 과거에 놔주라\\n네가 있는 시간에서 죽어갈 거야\\n우리 그냥 결혼하면 안 될까\\n돈은 내가 열심히 벌 테니까\\n이 세상과 내가 눈감는 날\\n까지만 날 사랑한다 말해주라\\n내가 너를 사랑해도\\n네가 날 안 사랑해도\\n우린 나름대로 행복할 거야\\n내 방 천장에 그려 본\\n내 우주에게 물어본\\n말은 나를 사랑하면 안 될까\\n오사카나 오키나와의 바다\\n내 뮤비들을 찍었던 곳 말이야\\n같이 가자 약속했었잖아\\n그 약속이 깨질까 봐 겁이 나\\nWHUTUF이 결혼한다 하던 날\\n진짜 처음으로 걔가 부럽더라\\n하얀 웨딩드레스를 입은 아름다운\\n너와 영원을 말할 수 있을까\\n가족이 되어주라\\n내 집이 되어주라\\n나도 날 줄 테니 너도 널 주라\\n평생의 연인이야\\n네 말대로 말이야\\n그래 별과 우주잖아\\n날 사랑하지 않는다면\\n나의 사랑 반을 받아\\n남은 사랑의 반도\\n내가 채워줄 거야 꼭\\n내가 너를 사랑해도\\n네가 날 안 사랑해도\\n우린 나름대로 행복할 거야\\n내 방 천장에 그려 본\\n내 우주에게 물어본\\n말은 나를 사랑하면 안 될까\\n내가 너를 사랑해도\\n네가 날 안 사랑해도\\n우린 나름대로 행복할 거야\\n내 방 천장에 그려 본\\n내 우주에게 물어본\\n말은 나를 사랑하면 안 될까', 'It’s the thought of being young\\nWhen your heart’s just like a drum\\nBeating louder with no way to guard it\\nWhen it all seems like it’s wrong\\nJust sing along to Elton John\\nAnd to that feeling, we’re just getting started\\n\\nWhen the nights get colder\\nAnd the rhythms got you falling behind\\nJust dream about that moment\\nWhen you look yourself right in the eye, eye, eye\\nThen you say\\n\\nI wanna dance\\nThe music’s got me going\\nAin’t nothing that can stop how we move yeah\\nLet’s break our plans\\nAnd live just like we’re golden\\nAnd roll in like we’re dancing fools\\n\\nWe don’t need to worry\\n‘Cause when we fall we know how to land\\nDon’t need to talk the talk, just walk the walk tonight\\n‘Cause we don’t need permission to dance\\n\\nThere’s always something that’s standing in the way\\nBut if you don’t let it faze ya\\nYou’ll know just how to break\\nJust keep the right vibe yeah\\n‘Cause there’s no looking back\\nThere ain’t no one to prove\\nWe don’t got this on lock yeah\\n\\nThe wait is over\\nThe time is now so let’s do it right\\nYeah we’ll keep going\\nAnd stay up until we see the sunrise\\nAnd we’ll say\\n\\nI wanna dance\\nThe music’s got me going\\nAin’t nothing that can stop how we move yeah\\nLet’s break our plans\\nAnd live just like we’re golden\\nAnd roll in like we’re dancing fools\\n\\nWe don’t need to worry\\n‘Cause when we fall we know how to land\\nDon’t need to talk the talk, just walk the walk tonight\\n‘Cause we don’t need permission to dance\\n\\nDa na na na na na na\\nDa na na na na na na\\nDa na na na na na na\\nNo, we don’t need permission to dance\\n\\nDa na na na na na na\\nDa na na na na na na\\nDa na na na na na na\\n\\nWell let me show ya\\nThat we can keep the fire alive\\n‘Cause it’s not over\\nTill it’s over say it one more time\\nSay\\n\\nI wanna dance\\nThe music’s got me going\\nAin’t nothing that can stop how we move yeah\\nLet’s break our plans\\nAnd live just like we’re golden\\nAnd roll in like we’re dancing fools\\n\\nWe don’t need to worry\\n‘Cause when we fall we know how to land\\nDon’t need to talk the talk, just walk the walk tonight\\n‘Cause we don’t need permission to dance']\n"
     ]
    }
   ],
   "source": [
    " # chrome driver 설정\n",
    "driver = webdriver.Chrome(DRIVER_PATH)\n",
    "driver.implicitly_wait(10)\n",
    "\n",
    "url = \"https://www.melon.com/chart/index.htm\"\n",
    "driver.get(url)\n",
    "html = driver.page_source\n",
    "soup = BeautifulSoup(html, 'html.parser')\n",
    "\n",
    "# 빈 리스트 변수\n",
    "title_list = []\n",
    "artist_list = []\n",
    "heart_list = []\n",
    "lyrics_list = []\n",
    "\n",
    "# crawling (TOP 5)\n",
    "for i in range(1, 6):\n",
    "    # click\n",
    "    click_element = WebDriverWait(driver, 20) \\\n",
    "        .until(EC.presence_of_element_located((By.XPATH, f'//*[@id=\"frm\"]/div/table/tbody/tr[{i}]/td[5]/div/a')))\n",
    "    click_element.click()\n",
    "\n",
    "    # title crawling\n",
    "    title = WebDriverWait(driver, 20).until(\n",
    "        EC.presence_of_element_located((By.CSS_SELECTOR, \"#downloadfrm > div > div > div.entry > div.info > div.song_name\")))\n",
    "    title_list.append(title.text)\n",
    "\n",
    "    # artist crawling\n",
    "    artist = WebDriverWait(driver, 20).until(\n",
    "        EC.presence_of_element_located((By.CSS_SELECTOR, \"#downloadfrm > div > div > div.entry > div.info > div.artist > a > span:nth-child(1)\")))\n",
    "    artist_list.append(artist.text)\n",
    "    \n",
    "    # heart crawling\n",
    "    heart = WebDriverWait(driver, 20).until(\n",
    "        EC.presence_of_element_located((By.CSS_SELECTOR, \"#d_like_count\")))\n",
    "    heart_list.append(heart.text)\n",
    "\n",
    "    # lyrics crawling\n",
    "    lyrics = WebDriverWait(driver, 20).until(\n",
    "        EC.presence_of_element_located((By.CSS_SELECTOR, \"#d_video_summary\")))\n",
    "    lyrics_list.append(lyrics.text)\n",
    "    \n",
    "    # back\n",
    "    driver.back()\n",
    "    \n",
    "print(title_list)\n",
    "print(artist_list)\n",
    "print(heart_list)\n",
    "print(lyrics_list)"
   ]
  },
  {
   "cell_type": "markdown",
   "metadata": {},
   "source": [
    "### TIP: 보통은 결과값을 `데이터프레임` 형태로 저장한다"
   ]
  },
  {
   "cell_type": "code",
   "execution_count": 16,
   "metadata": {
    "ExecuteTime": {
     "end_time": "2021-09-26T11:42:22.208939Z",
     "start_time": "2021-09-26T11:42:20.069732Z"
    }
   },
   "outputs": [],
   "source": [
    "# 결과 변수\n",
    "raw_result = {'title': title_list,\n",
    "              'artist': artist_list,\n",
    "              'heart': heart_list,\n",
    "              'lyrics': lyrics_list}\n",
    "\n",
    "result = pd.DataFrame(raw_result)\n",
    "\n",
    "# # csv 파일로 save\n",
    "# result.to_csv(\"MelonTop5\", mode='w')\n",
    "\n",
    "# driver 종료\n",
    "driver.quit()"
   ]
  },
  {
   "cell_type": "code",
   "execution_count": 17,
   "metadata": {
    "ExecuteTime": {
     "end_time": "2021-09-26T11:42:24.257849Z",
     "start_time": "2021-09-26T11:42:24.238852Z"
    }
   },
   "outputs": [
    {
     "data": {
      "text/html": [
       "<div>\n",
       "<style scoped>\n",
       "    .dataframe tbody tr th:only-of-type {\n",
       "        vertical-align: middle;\n",
       "    }\n",
       "\n",
       "    .dataframe tbody tr th {\n",
       "        vertical-align: top;\n",
       "    }\n",
       "\n",
       "    .dataframe thead th {\n",
       "        text-align: right;\n",
       "    }\n",
       "</style>\n",
       "<table border=\"1\" class=\"dataframe\">\n",
       "  <thead>\n",
       "    <tr style=\"text-align: right;\">\n",
       "      <th></th>\n",
       "      <th>title</th>\n",
       "      <th>artist</th>\n",
       "      <th>heart</th>\n",
       "      <th>lyrics</th>\n",
       "    </tr>\n",
       "  </thead>\n",
       "  <tbody>\n",
       "    <tr>\n",
       "      <th>0</th>\n",
       "      <td>STAY</td>\n",
       "      <td>The Kid LAROI</td>\n",
       "      <td>152,529</td>\n",
       "      <td>I do the same thing I told you\\nthat I never w...</td>\n",
       "    </tr>\n",
       "    <tr>\n",
       "      <th>1</th>\n",
       "      <td>신호등</td>\n",
       "      <td>이무진</td>\n",
       "      <td>215,209</td>\n",
       "      <td>이제야 목적지를 정했지만\\n가려한 날 막아서네 난 갈 길이 먼데\\n새빨간 얼굴로 화...</td>\n",
       "    </tr>\n",
       "    <tr>\n",
       "      <th>2</th>\n",
       "      <td>My Universe</td>\n",
       "      <td>Coldplay</td>\n",
       "      <td>69,020</td>\n",
       "      <td>You, you are my universe and\\nI just want to p...</td>\n",
       "    </tr>\n",
       "    <tr>\n",
       "      <th>3</th>\n",
       "      <td>OHAYO MY NIGHT</td>\n",
       "      <td>디핵 (D-Hack)</td>\n",
       "      <td>133,397</td>\n",
       "      <td>너를 사랑하고 있어\\n너를 사랑하고 있어\\n자기야 날 사랑해주면 안 될까\\n말처럼 ...</td>\n",
       "    </tr>\n",
       "    <tr>\n",
       "      <th>4</th>\n",
       "      <td>Permission to Dance</td>\n",
       "      <td>방탄소년단</td>\n",
       "      <td>176,403</td>\n",
       "      <td>It’s the thought of being young\\nWhen your hea...</td>\n",
       "    </tr>\n",
       "  </tbody>\n",
       "</table>\n",
       "</div>"
      ],
      "text/plain": [
       "                 title         artist    heart  \\\n",
       "0                 STAY  The Kid LAROI  152,529   \n",
       "1                  신호등            이무진  215,209   \n",
       "2          My Universe       Coldplay   69,020   \n",
       "3       OHAYO MY NIGHT    디핵 (D-Hack)  133,397   \n",
       "4  Permission to Dance          방탄소년단  176,403   \n",
       "\n",
       "                                              lyrics  \n",
       "0  I do the same thing I told you\\nthat I never w...  \n",
       "1  이제야 목적지를 정했지만\\n가려한 날 막아서네 난 갈 길이 먼데\\n새빨간 얼굴로 화...  \n",
       "2  You, you are my universe and\\nI just want to p...  \n",
       "3  너를 사랑하고 있어\\n너를 사랑하고 있어\\n자기야 날 사랑해주면 안 될까\\n말처럼 ...  \n",
       "4  It’s the thought of being young\\nWhen your hea...  "
      ]
     },
     "execution_count": 17,
     "metadata": {},
     "output_type": "execute_result"
    }
   ],
   "source": [
    "result"
   ]
  },
  {
   "cell_type": "markdown",
   "metadata": {},
   "source": [
    "**`데이터프레임`** 형식을 이용하면, 가독성도 좋고, 나중에 데이터 핸들링하기에도 편리하다!"
   ]
  },
  {
   "cell_type": "markdown",
   "metadata": {},
   "source": [
    "# 2. Image Crawling\n",
    "이미지 크롤링하기\n",
    "\n",
    "- 1번째 이미지: /html/body/div/div[3]/div/div/div[4]/form/div/table/tbody/tr[**1**]/td[4]/div/a/img\n",
    "- 2번째 이미지: /html/body/div/div[3]/div/div/div[4]/form/div/table/tbody/tr[**2**]/td[4]/div/a/img\n",
    "\n",
    "...\n",
    "\n",
    "- 50번째 이미지: /html/body/div/div[3]/div/div/div[4]/form/div/table/tbody/tr[**50**]/td[4]/div/a/img\n",
    "\n",
    "> **현재는 가사 보기가 4번째 td로 옮겨짐**"
   ]
  },
  {
   "cell_type": "markdown",
   "metadata": {},
   "source": [
    "#### STEP1. URL Crawling"
   ]
  },
  {
   "cell_type": "code",
   "execution_count": 19,
   "metadata": {
    "ExecuteTime": {
     "end_time": "2021-09-26T11:44:28.625882Z",
     "start_time": "2021-09-26T11:44:24.128967Z"
    }
   },
   "outputs": [
    {
     "name": "stdout",
     "output_type": "stream",
     "text": [
      "['https://cdnimg.melon.co.kr/cm2/album/images/106/46/395/10646395_20210707141710_500.jpg/melon/resize/120/quality/80/optimize', 'https://cdnimg.melon.co.kr/cm2/album/images/106/07/796/10607796_20210513201807_500.jpg/melon/resize/120/quality/80/optimize', 'https://cdnimg.melon.co.kr/cm2/album/images/107/20/913/10720913_20210923173742_500.jpg/melon/resize/120/quality/80/optimize', 'https://cdnimg.melon.co.kr/cm2/album/images/104/47/520/10447520_20200619123343_500.jpg/melon/resize/120/quality/80/optimize', 'https://cdnimg.melon.co.kr/cm2/album/images/106/48/182/10648182_20210709104950_500.jpg/melon/resize/120/quality/80/optimize', 'https://cdnimg.melon.co.kr/cm2/album/images/106/09/232/10609232_20210517155130_500.jpg/melon/resize/120/quality/80/optimize', 'https://cdnimg.melon.co.kr/cm2/album/images/106/38/275/10638275_20210625172521_500.jpg/melon/resize/120/quality/80/optimize', 'https://cdnimg.melon.co.kr/cm2/album/images/106/12/483/10612483_20210521111412_500.jpg/melon/resize/120/quality/80/optimize', 'https://cdnimg.melon.co.kr/cm2/album/images/106/45/654/10645654_20210706155154_500.jpg/melon/resize/120/quality/80/optimize', 'https://cdnimg.melon.co.kr/cm2/album/images/106/61/658/10661658_20210726111159_500.jpg/melon/resize/120/quality/80/optimize', 'https://cdnimg.melon.co.kr/cm2/album/images/104/79/150/10479150_20200918102847_500.jpg/melon/resize/120/quality/80/optimize', 'https://cdnimg.melon.co.kr/cm2/album/images/105/80/103/10580103_20210319132819_500.jpg/melon/resize/120/quality/80/optimize', 'https://cdnimg.melon.co.kr/cm2/album/images/106/80/450/10680450_20210813124748_500.jpg/melon/resize/120/quality/80/optimize', 'https://cdnimg.melon.co.kr/cm2/album/images/106/53/694/10653694_20210715164901_500.jpg/melon/resize/120/quality/80/optimize', 'https://cdnimg.melon.co.kr/cm2/album/images/106/67/450/10667450_20210802111127_500.jpg/melon/resize/120/quality/80/optimize', 'https://cdnimg.melon.co.kr/cm2/album/images/106/37/411/10637411_20210909170255_500.jpg/melon/resize/120/quality/80/optimize', 'https://cdnimg.melon.co.kr/cm2/album/images/106/10/525/10610525_20210518143433_500.jpg/melon/resize/120/quality/80/optimize', 'https://cdnimg.melon.co.kr/cm2/album/images/106/98/116/10698116_20210831104635_500.jpg/melon/resize/120/quality/80/optimize', 'https://cdnimg.melon.co.kr/cm2/album/images/106/11/845/10611845_20210520170350_500.jpg/melon/resize/120/quality/80/optimize', 'https://cdnimg.melon.co.kr/cm2/album/images/104/12/319/10412319_20200403103006_500.jpg/melon/resize/120/quality/80/optimize', 'https://cdnimg.melon.co.kr/cm2/album/images/107/12/767/10712767_20210913165623_500.jpg/melon/resize/120/quality/80/optimize', 'https://cdnimg.melon.co.kr/cm2/album/images/107/03/942/10703942_20210917110116_500.jpg/melon/resize/120/quality/80/optimize', 'https://cdnimg.melon.co.kr/cm2/album/images/106/31/122/10631122_20210617142653_500.jpg/melon/resize/120/quality/80/optimize', 'https://cdnimg.melon.co.kr/cm2/album/images/106/95/590/10695590_20210827162225_500.jpg/melon/resize/120/quality/80/optimize', 'https://cdnimg.melon.co.kr/cm2/album/images/100/43/575/10043575_20210302112520_500.jpg/melon/resize/120/quality/80/optimize', 'https://cdnimg.melon.co.kr/cm2/album/images/105/75/005/10575005_20210309113840_500.jpg/melon/resize/120/quality/80/optimize', 'https://cdnimg.melon.co.kr/cm2/album/images/105/54/246/10554246_20210325161233_500.jpg/melon/resize/120/quality/80/optimize', 'https://cdnimg.melon.co.kr/cm2/album/images/104/98/123/10498123_20201002094556_500.jpg/melon/resize/120/quality/80/optimize', 'https://cdnimg.melon.co.kr/cm2/album/images/106/04/729/10604729_20210510143932_500.jpg/melon/resize/120/quality/80/optimize', 'https://cdnimg.melon.co.kr/cm2/album/images/105/89/127/10589127_20210407175809_500.jpg/melon/resize/120/quality/80/optimize', 'https://cdnimg.melon.co.kr/cm2/album/images/105/54/246/10554246_20210325161233_500.jpg/melon/resize/120/quality/80/optimize', 'https://cdnimg.melon.co.kr/cm/album/images/102/73/641/10273641_500.jpg/melon/resize/120/quality/80/optimize', 'https://cdnimg.melon.co.kr/cm2/album/images/106/44/845/10644845_20210705203115_500.jpg/melon/resize/120/quality/80/optimize', 'https://cdnimg.melon.co.kr/cm2/album/images/105/13/079/10513079_20201103201136_500.jpg/melon/resize/120/quality/80/optimize', 'https://cdnimg.melon.co.kr/cm2/album/images/105/80/227/10580227_20210319163608_500.jpg/melon/resize/120/quality/80/optimize', 'https://cdnimg.melon.co.kr/cm2/album/images/107/04/178/10704178_20210906141809_500.jpg/melon/resize/120/quality/80/optimize', 'https://cdnimg.melon.co.kr/cm2/album/images/106/14/238/10614238_20210525100205_500.jpg/melon/resize/120/quality/80/optimize', 'https://cdnimg.melon.co.kr/cm2/album/images/107/03/942/10703942_20210917110116_500.jpg/melon/resize/120/quality/80/optimize', 'https://cdnimg.melon.co.kr/cm2/album/images/106/70/618/10670618_20210804111639_500.jpg/melon/resize/120/quality/80/optimize', 'https://cdnimg.melon.co.kr/cm/album/images/100/37/969/10037969_500.jpg/melon/resize/120/quality/80/optimize', 'https://cdnimg.melon.co.kr/cm2/album/images/106/36/269/10636269_20210625102856_500.jpg/melon/resize/120/quality/80/optimize', 'https://cdnimg.melon.co.kr/cm2/album/images/107/16/174/10716174_20210916153439_500.jpg/melon/resize/120/quality/80/optimize', 'https://cdnimg.melon.co.kr/cm2/album/images/106/39/384/10639384_20210628195604_500.jpg/melon/resize/120/quality/80/optimize', 'https://cdnimg.melon.co.kr/cm2/album/images/105/40/298/10540298_20201229150823_500.jpg/melon/resize/120/quality/80/optimize', 'https://cdnimg.melon.co.kr/cm2/album/images/106/32/758/10632758_20210621102906_500.jpg/melon/resize/120/quality/80/optimize', 'https://cdnimg.melon.co.kr/cm2/album/images/105/21/521/10521521_20201120112220_500.jpg/melon/resize/120/quality/80/optimize', 'https://cdnimg.melon.co.kr/cm2/album/images/106/33/915/10633915_20210622101307_500.jpg/melon/resize/120/quality/80/optimize', 'https://cdnimg.melon.co.kr/cm2/album/images/106/36/091/10636091_20210624104623_500.jpg/melon/resize/120/quality/80/optimize', 'https://cdnimg.melon.co.kr/cm/album/images/012/86/252/1286252_500.jpg/melon/resize/120/quality/80/optimize', 'https://cdnimg.melon.co.kr/cm2/album/images/105/80/103/10580103_20210319132819_500.jpg/melon/resize/120/quality/80/optimize']\n"
     ]
    }
   ],
   "source": [
    " # chrome driver 설정\n",
    "driver = webdriver.Chrome(DRIVER_PATH)\n",
    "driver.implicitly_wait(10)\n",
    "\n",
    "url = \"https://www.melon.com/chart/index.htm\"\n",
    "\n",
    "driver.get(url)\n",
    "html = driver.page_source\n",
    "soup = BeautifulSoup(html, 'html.parser')\n",
    "\n",
    "# 빈 리스트 변수\n",
    "link_list = []\n",
    "\n",
    "# # img crawling (TOP 50)\n",
    "for i in range(1, 51):\n",
    "    \n",
    "    img = WebDriverWait(driver, 20) \\\n",
    "        .until(EC.presence_of_element_located((By.CSS_SELECTOR, f\"#frm > div > table > tbody > tr:nth-child({i}) > td:nth-child(4) > div > a > img\")))\n",
    "\n",
    "    link_list.append(img.get_attribute('src'))\n",
    "\n",
    "print(link_list)"
   ]
  },
  {
   "cell_type": "markdown",
   "metadata": {},
   "source": [
    "#### STEP2. Download images using URLs\n",
    "\n",
    "자신의 디렉토리에 `img` 폴더 생성하고 실행"
   ]
  },
  {
   "cell_type": "code",
   "execution_count": 22,
   "metadata": {
    "ExecuteTime": {
     "end_time": "2021-09-26T11:45:46.076256Z",
     "start_time": "2021-09-26T11:45:39.801010Z"
    }
   },
   "outputs": [],
   "source": [
    "import os\n",
    "import urllib.request\n",
    "\n",
    "count = 0\n",
    "os.makedirs(\"./img/\", exist_ok=True)\n",
    "for link in link_list:\n",
    "    count += 1\n",
    "    urllib.request.urlretrieve(link, './img/img' + str(count) + '.jpg')"
   ]
  }
 ],
 "metadata": {
  "accelerator": "GPU",
  "colab": {
   "authorship_tag": "ABX9TyOhkZTlrUFe4TMwA5g1t9jm",
   "collapsed_sections": [],
   "name": "Crawling.ipynb",
   "provenance": []
  },
  "kernelspec": {
   "display_name": "Python 3",
   "language": "python",
   "name": "python3"
  },
  "language_info": {
   "codemirror_mode": {
    "name": "ipython",
    "version": 3
   },
   "file_extension": ".py",
   "mimetype": "text/x-python",
   "name": "python",
   "nbconvert_exporter": "python",
   "pygments_lexer": "ipython3",
   "version": "3.9.5"
  },
  "toc": {
   "base_numbering": 1,
   "nav_menu": {},
   "number_sections": false,
   "sideBar": true,
   "skip_h1_title": false,
   "title_cell": "Table of Contents",
   "title_sidebar": "Contents",
   "toc_cell": false,
   "toc_position": {},
   "toc_section_display": true,
   "toc_window_display": false
  }
 },
 "nbformat": 4,
 "nbformat_minor": 1
}
