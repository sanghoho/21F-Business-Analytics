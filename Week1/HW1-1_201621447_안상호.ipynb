{
 "cells": [
  {
   "cell_type": "markdown",
   "metadata": {},
   "source": [
    "# 파이썬 스타일 코드1 - 연습해보기 \n",
    "\n",
    "## 2021년 09월 12일 안상호\n",
    "\n",
    "---"
   ]
  },
  {
   "cell_type": "markdown",
   "metadata": {},
   "source": [
    "# 일반문제\n",
    "\n",
    "---"
   ]
  },
  {
   "cell_type": "markdown",
   "metadata": {},
   "source": [
    "## 1. Css Selector 수정\n",
    "\n",
    "Css Selector는 웹 페이지에서 특정 요소를 선택하기 위해 해당 요소까지 찾아갈 수 있도록 해주는 주소와 같은 것이다. 대부분의 웹브라우져에서 는 해당 요소에 대한 css selector 값을 쉽게 얻어올 수 있다 (F12 > Select an Element). 다음과 같은 selector가 있다고 한다.\n",
    "\n",
    "```css\n",
    "#today_main_news > div.hdline_news > ul > li:nth-child(1)\n",
    "\n",
    "```\n",
    "\n",
    "이러한 selector를 웹크롤링에서 사용하기 위해서는 `:nth-child`라는 부분을 제거하는 작업이 필요한데, 이를 자동화 해보자.\n",
    "\n",
    "> ***Q***: 해당 Selector를 문자열로 표시하고, `split`과 `join` 함수를 활용하여 다음 예시와 같은 selector를 출력하시오.\n",
    "\n",
    "\n",
    "\n",
    "### 출력결과 예시\n",
    "\n",
    "```python\n",
    "\n",
    "selector = \"#today_main_news > div.hdline_news > ul > li:nth-child(1)\"\n",
    "\n",
    "\n",
    "## CODE\n",
    "\n",
    "## '#today_main_news  >  div.hdline_news  >  ul  >  li'\n",
    "```\n",
    "\n",
    "\n",
    "### HINT\n",
    "\n",
    "1. 특정 구분자(seperator)를 통해 구분된 리스트를 만든다.\n",
    "2. 구분된 리스트에서 해당 부분을 선택하고 1과는 다른 특정 구분자로 나눠준다.\n",
    "3. 2의 리스트에서 필요한 부분만 선택하여 기존 리스트에 할당한다.\n",
    "4. 구분자를 기준으로 리스트를 문자열로 합쳐준다. \n",
    "\n"
   ]
  },
  {
   "cell_type": "code",
   "execution_count": 1,
   "metadata": {
    "ExecuteTime": {
     "end_time": "2021-09-12T06:39:11.242641Z",
     "start_time": "2021-09-12T06:39:11.224650Z"
    }
   },
   "outputs": [
    {
     "data": {
      "text/plain": [
       "'#today_main_news  >  div.hdline_news  >  ul  >  li'"
      ]
     },
     "execution_count": 1,
     "metadata": {},
     "output_type": "execute_result"
    }
   ],
   "source": [
    "selector = \"#today_main_news > div.hdline_news > ul > li:nth-child(1)\"\n",
    "\n",
    "selector_list = selector.split(\">\") ## split 함수를 사용해서 children 들을 리스트화\n",
    "selector_list[-1] = selector_list[-1].split(\":\")[0] ## 가장 마지막 li:nth-child(1)을 선택해주고, li만 선택\n",
    "\n",
    "\" > \".join(selector_list) ## 이제 li:nth-child(1) -> li로 바뀌었으므로, join하여 원래 포맷대로 변경"
   ]
  },
  {
   "cell_type": "markdown",
   "metadata": {},
   "source": [
    "## 2. list comprehension으로 만드는 구구단  \n",
    "\n",
    "PR5 문제 3번에서 만들었던 구구단 계산기를 list comprehension으로 구현해보고자 한다.     \n",
    "\n",
    "> ***Q***: list comprehension을 사용하여 구구단을 연산하는 함수 `gugu_com`을 작성하고 구구단 **7**단을 출력하시오.\n",
    "\n",
    "\n",
    "### 출력 결과 예시\n",
    "\n",
    "```python\n",
    "gugu_com(x=2)\n",
    "\n",
    "# 2  x  1 = 2\n",
    "# 2  x  2 = 4\n",
    "# 2  x  3 = 6\n",
    "# 2  x  4 = 8\n",
    "# 2  x  5 = 10\n",
    "# 2  x  6 = 12\n",
    "# 2  x  7 = 14\n",
    "# 2  x  8 = 16\n",
    "# 2  x  9 = 18\n",
    "```\n"
   ]
  },
  {
   "cell_type": "code",
   "execution_count": 3,
   "metadata": {
    "ExecuteTime": {
     "end_time": "2021-09-12T06:39:44.389193Z",
     "start_time": "2021-09-12T06:39:44.372188Z"
    }
   },
   "outputs": [
    {
     "name": "stdout",
     "output_type": "stream",
     "text": [
      "2 x 1 = 2\n",
      "2 x 2 = 4\n",
      "2 x 3 = 6\n",
      "2 x 4 = 8\n",
      "2 x 5 = 10\n",
      "2 x 6 = 12\n",
      "2 x 7 = 14\n",
      "2 x 8 = 16\n",
      "2 x 9 = 18\n"
     ]
    }
   ],
   "source": [
    "def gugu_com(x: int=2):\n",
    "    [print(f\"{x} x {i} = {x*i}\") for i in range(1, 10)] ## 1 ~ 9까지 list comprehension으로 리스트에 곱셈 식과 결과를 도출하는 string을 추가\n",
    "\n",
    "gugu_com(2)"
   ]
  },
  {
   "cell_type": "markdown",
   "metadata": {},
   "source": [
    "## 3. 두 주사위의 곱\n",
    "\n",
    "두 주사위의 곱은 다음과 같은 결과를 가진다.\n",
    "\n",
    " `x` |  1  |  2  |  3  |  4  |  5  |  6 \n",
    " --- | --- | --- | --- | --- | --- | ---\n",
    "  1  |  1  |  2  |  3  |  4  |  5  |  6\n",
    "  2  |  2  |  4  |  6  |  8  |  10 |  12\n",
    "  3  |  3  |  6  |  9  |  12 |  15 |  18\n",
    "  4  |  4  |  8  |  12 |  16 |  20 |  24\n",
    "  5  |  5  |  10 |  15 |  20 |  25 |  30\n",
    "  6  |  6  |  12 |  18 |  24 |  30 |  36\n",
    " \n",
    " > ***Q***: list comprehension을 사용하여, 힌트를 제외하고는 **한줄의 코드로** 해당 결과를 가지는 이차원 리스트를 만드시오.\n",
    "\n",
    "\n",
    "### 출력결과 예시\n",
    "\n",
    "```python\n",
    "\n",
    "## CODE\n",
    "\n",
    "## [[1, 2, 3, 4, 5, 6],\n",
    "##  [2, 4, 6, 8, 10, 12],\n",
    "##  [3, 6, 9, 12, 15, 18],\n",
    "##  [4, 8, 12, 16, 20, 24],\n",
    "##  [5, 10, 15, 20, 25, 30],\n",
    "##  [6, 12, 18, 24, 30, 36]]\n",
    "\n",
    "```\n",
    "\n",
    "### HINT\n",
    "\n",
    "1. 한개의 주사위는 다음과 같이 표현할 수 있습니다.\n",
    "\n",
    "```python\n",
    "die = [i for i in range(1,7)]\n",
    "```\n",
    "\n"
   ]
  },
  {
   "cell_type": "code",
   "execution_count": 4,
   "metadata": {
    "ExecuteTime": {
     "end_time": "2021-09-12T06:39:48.507550Z",
     "start_time": "2021-09-12T06:39:48.496570Z"
    }
   },
   "outputs": [
    {
     "data": {
      "text/plain": [
       "[[1, 2, 3, 4, 5, 6],\n",
       " [2, 4, 6, 8, 10, 12],\n",
       " [3, 6, 9, 12, 15, 18],\n",
       " [4, 8, 12, 16, 20, 24],\n",
       " [5, 10, 15, 20, 25, 30],\n",
       " [6, 12, 18, 24, 30, 36]]"
      ]
     },
     "execution_count": 4,
     "metadata": {},
     "output_type": "execute_result"
    }
   ],
   "source": [
    "die = [i for i in range(1,7)] # 1 ~ 6까지\n",
    "\n",
    "[[j*i for i in die] for j in die] # 1~6까지의 리스트를 중첩 반복하여 각 요소들을 교차 곱샘"
   ]
  },
  {
   "cell_type": "markdown",
   "metadata": {},
   "source": [
    "## 4. 두 주사위의 합 \n",
    "\n",
    "간단한 테이블 형태의 데이터를 2차원 리스트로 표현해보자. 2개의 주사위를 굴리면 다음 표와 같이 36가지의 결과가 나온다. \n",
    "\n",
    " `+` |  1 |  2 |  3 |  4  |  5  |  6 \n",
    " --- | ---| ---| ---| --- | --- | ---\n",
    "  1  |  2 |  3 |  4 |  5  |  6  |  7\n",
    "  2  |  3 |  4 |  5 |  6  |  7  |  8\n",
    "  3  |  4 |  5 |  6 |  7  |  8  |  9\n",
    "  4  |  5 |  6 |  7 |  8  |  9  |  10\n",
    "  5  |  6 |  7 |  8 |  9  |  10 |  11\n",
    "  6  |  7 |  8 |  9 |  10 |  11 |  12\n",
    "  \n",
    "\n",
    "\n",
    "> ***Q***: 이것을 6 x 6 크기의 2차원 리스트로 생성하고, 인덱싱을 통해 `2 + 6`의 값을 2가지 방법으로 나타내시오. (2차원 리스트 생성시 방법의 제한은 없습니다.)\n"
   ]
  },
  {
   "cell_type": "code",
   "execution_count": 5,
   "metadata": {
    "ExecuteTime": {
     "end_time": "2021-09-12T06:40:00.307679Z",
     "start_time": "2021-09-12T06:40:00.299668Z"
    }
   },
   "outputs": [
    {
     "name": "stdout",
     "output_type": "stream",
     "text": [
      "8\n",
      "8\n"
     ]
    }
   ],
   "source": [
    "dice_sum = [[2, 3, 4, 5, 6, 7],\n",
    "            [3, 4, 5, 6, 7, 8],\n",
    "            [4, 5, 6, 7, 8, 9],\n",
    "            [5, 6, 7, 8, 9, 10],\n",
    "            [6, 7, 8, 9, 10, 11],\n",
    "            [7, 8, 9, 10, 11, 12]]\n",
    "\n",
    "print(dice_sum[1][5]) ## 2와 6의 덧셈이므로\n",
    "print(dice_sum[5][1]) ## 반대로 6과 2의 덧셈으로도 생각할 수 있음"
   ]
  },
  {
   "cell_type": "code",
   "execution_count": 6,
   "metadata": {
    "ExecuteTime": {
     "end_time": "2021-09-12T06:40:00.772626Z",
     "start_time": "2021-09-12T06:40:00.761684Z"
    }
   },
   "outputs": [
    {
     "name": "stdout",
     "output_type": "stream",
     "text": [
      "8\n",
      "8\n"
     ]
    }
   ],
   "source": [
    "die = [i for i in range(1,7)]\n",
    "\n",
    "dice_sum = [[j+i for i in die] for j in die] ## 앞선 곱셈에서 그냥 덧셈으로 바꿔주면 됨\n",
    "\n",
    "print(dice_sum[1][5])\n",
    "print(dice_sum[5][1])"
   ]
  },
  {
   "cell_type": "markdown",
   "metadata": {},
   "source": [
    "# 도전문제\n",
    "\n",
    "---\n"
   ]
  },
  {
   "cell_type": "markdown",
   "metadata": {},
   "source": [
    "## 표절 검사 프로그램 \n",
    "\n",
    "**강의노트 07 자료구조 collections 설명 참고**\n",
    "\n",
    "아주대학교 글로벌 경영학과의 한 교수님은 과제의 표절 검사를 쉽게 하기 위해 Python을 통한 간단한 표절 검사 프로그램을 작성해보고자 한다. \n",
    "\n",
    "현재 구상 중인 프로그램은 복잡한 알고리즘을 필요로하지 않고, 간단하게 단어 빈도를 기반으로 하여, 그 유사도를 측정하고자한다.\n",
    "\n",
    "\n",
    "\n",
    "\n"
   ]
  },
  {
   "cell_type": "code",
   "execution_count": 7,
   "metadata": {
    "ExecuteTime": {
     "end_time": "2021-09-12T06:40:10.851179Z",
     "start_time": "2021-09-12T06:40:10.841179Z"
    }
   },
   "outputs": [],
   "source": [
    "from collections import defaultdict, Counter\n",
    "\n",
    "text = \"\"\"Python is a very simple programming language so even if you are new to programming, you can learn python without facing any issues.\"\"\"\n",
    "\n",
    "text2 = \"\"\"C is a very difficult programming language so even if you are good at programming, you can learn c with facing any issues.\"\"\"\n",
    "\n",
    "text3 = \"\"\"R Programming is good at statistical analysis. you can learn easily\"\"\""
   ]
  },
  {
   "cell_type": "markdown",
   "metadata": {},
   "source": [
    "### 문제1\n",
    "\n",
    "> ***Q***: `defaultdict`를 활용하여 text를 입력받으면 단어별 빈도를 측정하여 반환하는 함수 `word_counter`를 만드시오.  \n",
    "\n",
    "\n",
    "### HINT\n",
    "\n",
    "1. `collections` 모듈의 `defaultdict`는 단순한 `dict`와 다르게, 인덱싱에서 key 값이 없으면 오류가 아닌 0을 기본 값으로 가지게 한다.\n",
    "\n",
    "```python\n",
    "word_dict = dict()\n",
    "word_dict[\"key\"]\n",
    "\n",
    "## KeyError\n",
    "\n",
    "word_dict = defaultdict(lambda: 0)\n",
    "word_dict[\"key\"] \n",
    "## 0\n",
    "\n",
    "word_dict[\"key\"] += 1\n",
    "word_dict[\"key\"]\n",
    "## 1\n",
    "\n",
    "```\n",
    "\n",
    "2. 유사도 측정을 위해 문장을 단어별로 분할해야하며, 편의를 위해 모두 소문자로 바꿔준다. \n",
    "    + `split`\n",
    "    + `lower`"
   ]
  },
  {
   "cell_type": "code",
   "execution_count": 8,
   "metadata": {
    "ExecuteTime": {
     "end_time": "2021-09-12T06:40:12.306591Z",
     "start_time": "2021-09-12T06:40:12.293578Z"
    }
   },
   "outputs": [],
   "source": [
    "def word_counter(text: str):\n",
    "    word_count = defaultdict(lambda: 0) ## 처음 단어가 들어오면 0\n",
    "    for word in text.lower().split():   ## 우선 소문자로 모두 변경하고, 띄어쓰기 단위로 split \n",
    "        word_count[word] += 1           ## word 마다 반복하며 dict에 카운팅\n",
    "        \n",
    "    return word_count\n"
   ]
  },
  {
   "cell_type": "code",
   "execution_count": 9,
   "metadata": {
    "ExecuteTime": {
     "end_time": "2021-09-12T06:40:13.011530Z",
     "start_time": "2021-09-12T06:40:12.998546Z"
    }
   },
   "outputs": [
    {
     "data": {
      "text/plain": [
       "defaultdict(<function __main__.word_counter.<locals>.<lambda>()>,\n",
       "            {'python': 2,\n",
       "             'is': 1,\n",
       "             'a': 1,\n",
       "             'very': 1,\n",
       "             'simple': 1,\n",
       "             'programming': 1,\n",
       "             'language': 1,\n",
       "             'so': 1,\n",
       "             'even': 1,\n",
       "             'if': 1,\n",
       "             'you': 2,\n",
       "             'are': 1,\n",
       "             'new': 1,\n",
       "             'to': 1,\n",
       "             'programming,': 1,\n",
       "             'can': 1,\n",
       "             'learn': 1,\n",
       "             'without': 1,\n",
       "             'facing': 1,\n",
       "             'any': 1,\n",
       "             'issues.': 1})"
      ]
     },
     "execution_count": 9,
     "metadata": {},
     "output_type": "execute_result"
    }
   ],
   "source": [
    "word_counter(text)"
   ]
  },
  {
   "cell_type": "markdown",
   "metadata": {},
   "source": [
    "### 문제2\n",
    "\n",
    "> ***Q***: 도전문제 1의 `word_counter` 활용하여 `text`와 `text2`의 유사도와 `text`와 `text3`의 유사도를 구하시오.\n",
    "\n",
    "\n",
    "### HINT\n",
    "\n",
    "1. `collections` 모듈의 `Counter`는 dict의 형태이지만 `Counter`들 간의 덧셈, 뺄셈 연산이 가능하며 `defaultdict`를 `Counter`로 변환할 수 있다.\n",
    "\n",
    "```python\n",
    "Counter({\"a\": 1, \"b\": 2, \"c\": 3}) - Counter({\"a\": 1, \"b\": 1, \"c\": 1}) \n",
    "\n",
    "## Counter({'b': 1, 'c': 2})\n",
    "\n",
    "```\n",
    "\n",
    "2. dictionary 형태의 모든 자료구조는 `.values()` 를 통해 value 값만 추출할 수 있다.\n",
    "\n",
    "```python\n",
    "sum(Counter({\"a\": 1, \"b\": 2, \"c\": 3}).values()) # 전체 단어수 합\n",
    "\n",
    "## 6\n",
    "```\n",
    "\n",
    "3. `Counter(A)`가 `Counter(B)`와 얼마나 유사한지는 다음과 같은 공식을 따른다고 한다.(시그마는 해당 `Counter` dict 안의 value 값을 모두 합하라는 의미)  \n",
    "\n",
    "$$\\bigg( 1 - \\cfrac{\\sum(Counter(A) - Counter(B))}{\\sum Counter(A)} \\bigg) \\times 100 $$"
   ]
  },
  {
   "cell_type": "code",
   "execution_count": 10,
   "metadata": {
    "ExecuteTime": {
     "end_time": "2021-09-12T06:49:37.724154Z",
     "start_time": "2021-09-12T06:49:37.716119Z"
    }
   },
   "outputs": [],
   "source": [
    "\n",
    "def text_similarity(text_count_1: defaultdict, text_count_2: defaultdict):\n",
    "    \"\"\"텍스트 유사도 분석 \n",
    "    * text1이 text2와 얼마나 유사한지를 검출\n",
    "    \"\"\"\n",
    "    text1_count = Counter(text_count_1)                     ## defaultdict를 Couter로 변환\n",
    "    text2_count = Counter(text_count_2)                     ## defaultdict를 Couter로 변환 \n",
    "    \n",
    "    word_total = sum(text1_count.values())                  ## text1의 총 단어 갯수\n",
    "    word_diff = sum((text1_count - text2_count).values())   ## text1이 가지고 있는 고유 단어만을 카운팅\n",
    "    \n",
    "    return (1 - word_diff / word_total) * 100              ## word_diff를 사용하면 고유 단어 확률이므로 이를 1에서 빼줌\n",
    "    \n"
   ]
  },
  {
   "cell_type": "code",
   "execution_count": 11,
   "metadata": {
    "ExecuteTime": {
     "end_time": "2021-09-12T06:49:38.281978Z",
     "start_time": "2021-09-12T06:49:38.262365Z"
    }
   },
   "outputs": [
    {
     "data": {
      "text/plain": [
       "73.91304347826086"
      ]
     },
     "execution_count": 11,
     "metadata": {},
     "output_type": "execute_result"
    }
   ],
   "source": [
    "text_similarity(word_counter(text), word_counter(text2))"
   ]
  },
  {
   "cell_type": "code",
   "execution_count": 12,
   "metadata": {
    "ExecuteTime": {
     "end_time": "2021-09-12T06:49:38.792039Z",
     "start_time": "2021-09-12T06:49:38.783971Z"
    }
   },
   "outputs": [
    {
     "data": {
      "text/plain": [
       "21.739130434782606"
      ]
     },
     "execution_count": 12,
     "metadata": {},
     "output_type": "execute_result"
    }
   ],
   "source": [
    "text_similarity(word_counter(text), word_counter(text3))"
   ]
  }
 ],
 "metadata": {
  "kernelspec": {
   "display_name": "Python 3",
   "language": "python",
   "name": "python3"
  },
  "language_info": {
   "codemirror_mode": {
    "name": "ipython",
    "version": 3
   },
   "file_extension": ".py",
   "mimetype": "text/x-python",
   "name": "python",
   "nbconvert_exporter": "python",
   "pygments_lexer": "ipython3",
   "version": "3.9.5"
  },
  "toc": {
   "base_numbering": 1,
   "nav_menu": {},
   "number_sections": false,
   "sideBar": true,
   "skip_h1_title": false,
   "title_cell": "Table of Contents",
   "title_sidebar": "Contents",
   "toc_cell": false,
   "toc_position": {},
   "toc_section_display": true,
   "toc_window_display": false
  }
 },
 "nbformat": 4,
 "nbformat_minor": 2
}
