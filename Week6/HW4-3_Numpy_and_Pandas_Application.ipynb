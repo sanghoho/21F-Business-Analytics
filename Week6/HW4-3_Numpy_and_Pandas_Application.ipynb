{
 "cells": [
  {
   "cell_type": "markdown",
   "metadata": {},
   "source": [
    "# Numpy와 Pandas 응용\n",
    "\n",
    "## 2021년 11월 06일 안상호\n",
    "\n",
    "---\n",
    "\n",
    "1. 성적 처리\n",
    "2. 기술 통계\n",
    "3. Gradient Descent\n",
    "\n"
   ]
  },
  {
   "cell_type": "code",
   "execution_count": 9,
   "metadata": {
    "ExecuteTime": {
     "end_time": "2021-11-06T08:10:42.664463Z",
     "start_time": "2021-11-06T08:10:42.651089Z"
    }
   },
   "outputs": [],
   "source": [
    "import numpy as np\n",
    "import pandas as pd\n",
    "import matplotlib.pyplot as plt"
   ]
  },
  {
   "cell_type": "markdown",
   "metadata": {},
   "source": [
    "\n",
    "##  1. 성적 처리\n",
    "\n",
    "| 이름 | 중간 | 기말 | 수행 ||\n",
    "| :-------: |:-------:| :-------:| :-------:|\n",
    "| 학생1      | 100 | 50  | 90|\n",
    "| 학생2      | 70      |   85  | 80|\n",
    "| 학생3 | 45      |    75  | 100 |\n",
    "\n",
    "위와 같은 1학기의 성적표가 있고, (**중간**, **기말**, **수행**)의 반영 비율이 $(35\\%, 45\\%, 20\\%)$ 일때의 총점 계산을 선형대수적으로 처리해 보겠습니다. 우선 위의 점수 테이블과 반영 비율을 각각, 행렬($matrix$)과  벡터($vector$)로 표기하면 아래와 같습니다.\n",
    "\n",
    "$$\n",
    "X = \n",
    "\\begin{pmatrix} \n",
    "100 & 50 & 90 \\\\\n",
    "70 & 85 & 80 \\\\\n",
    "45 & 75 & 100 \n",
    "\\end{pmatrix} \n",
    "$$\n",
    "\n",
    "$$ \\vec{p} = (0.35, 0.45, 0.2)$$\n",
    "\n",
    "따라서 행렬과 벡터의 내적계산을 통해 원하는 결과를 얻을 수 있게되는 것입니다.\n",
    "\n",
    "$$\n",
    "X \\cdot \\vec{p} = \n",
    "\\begin{pmatrix} \n",
    "100 & 50 & 90 \\\\\n",
    "70 & 85 & 80 \\\\\n",
    "45 & 75 & 100 \n",
    "\\end{pmatrix} \\cdot\n",
    "(0.35, 0.45, 0.2)\n",
    "$$\n"
   ]
  },
  {
   "cell_type": "code",
   "execution_count": 3,
   "metadata": {
    "ExecuteTime": {
     "end_time": "2021-11-06T06:53:19.337867Z",
     "start_time": "2021-11-06T06:53:19.327870Z"
    }
   },
   "outputs": [
    {
     "name": "stdout",
     "output_type": "stream",
     "text": [
      "[75.5  78.75 69.5 ]\n"
     ]
    }
   ],
   "source": [
    "import numpy as np \n",
    "\n",
    "X = np.array([[100, 50, 90],\n",
    "              [70, 85, 80],\n",
    "              [45, 75, 100]])\n",
    "\n",
    "p = np.array([0.35, 0.45, 0.2])\n",
    "\n",
    "print(X.dot(p))"
   ]
  },
  {
   "cell_type": "markdown",
   "metadata": {},
   "source": [
    "## 2. 기술 통계\n",
    "\n",
    "+ **기술 통계($Descriptive$ $statistics$)**는 정보 수집의 특징을 정량적으로 설명하거나 요약하는 요약 통계입니다[[1]](https://en.wikipedia.org/wiki/Descriptive_statistics#cite_note-1). 즉, 데이터를 요약, 설명하는데 초점이 맞추어져 있으며 크게 2가지 기법이 있다.\n",
    "    1. 집중화 경향 ($Central$ $tendency$): 데이터가 어떤 값에 집중되어 있는가?\n",
    "        -  평균(Mean, Average)\n",
    "    2. 분산도($Variation$): 데이터가 어떻게 퍼져 있는가?\n",
    "        - 분산(Variance), 표준편차(Standard Deviation) \n",
    "\n",
    "\n",
    "\n",
    "> 데이터의 갯수가 $n$개 이고, 데이터의 각 성분을 $d_i$로 표현할 때, \n",
    "\n",
    "$$\\text{Mean} = \\cfrac{d_1 + d_2 + \\cdots + d_n}{n} = \\cfrac{\\sum d_i}{n}$$\n",
    "\n",
    "\n",
    "$$\n",
    "\\begin{aligned}\n",
    "\\text{Variance} &= \\cfrac{(d_1 - Mean)^2 + (d_2 - Mean)^2 + \\cdots + (d_n - Mean)^2}{n - 1} \\\\\n",
    "&=\\cfrac{\\sum (d_i - Mean)^2}{n - 1}\n",
    "\\end{aligned}\n",
    "$$\n",
    "\n",
    "\n",
    "$$\\text{Std} = \\sqrt{\\text{Var}}$$\n"
   ]
  },
  {
   "cell_type": "code",
   "execution_count": 4,
   "metadata": {
    "ExecuteTime": {
     "end_time": "2021-11-06T06:57:51.476972Z",
     "start_time": "2021-11-06T06:57:51.428761Z"
    }
   },
   "outputs": [
    {
     "data": {
      "text/html": [
       "<div>\n",
       "<style scoped>\n",
       "    .dataframe tbody tr th:only-of-type {\n",
       "        vertical-align: middle;\n",
       "    }\n",
       "\n",
       "    .dataframe tbody tr th {\n",
       "        vertical-align: top;\n",
       "    }\n",
       "\n",
       "    .dataframe thead th {\n",
       "        text-align: right;\n",
       "    }\n",
       "</style>\n",
       "<table border=\"1\" class=\"dataframe\">\n",
       "  <thead>\n",
       "    <tr style=\"text-align: right;\">\n",
       "      <th></th>\n",
       "      <th>Unnamed: 0</th>\n",
       "      <th>Sepal.Length</th>\n",
       "      <th>Sepal.Width</th>\n",
       "      <th>Petal.Length</th>\n",
       "      <th>Petal.Width</th>\n",
       "      <th>Species</th>\n",
       "    </tr>\n",
       "  </thead>\n",
       "  <tbody>\n",
       "    <tr>\n",
       "      <th>0</th>\n",
       "      <td>1</td>\n",
       "      <td>5.1</td>\n",
       "      <td>3.5</td>\n",
       "      <td>1.4</td>\n",
       "      <td>0.2</td>\n",
       "      <td>setosa</td>\n",
       "    </tr>\n",
       "    <tr>\n",
       "      <th>1</th>\n",
       "      <td>2</td>\n",
       "      <td>4.9</td>\n",
       "      <td>3.0</td>\n",
       "      <td>1.4</td>\n",
       "      <td>0.2</td>\n",
       "      <td>setosa</td>\n",
       "    </tr>\n",
       "    <tr>\n",
       "      <th>2</th>\n",
       "      <td>3</td>\n",
       "      <td>4.7</td>\n",
       "      <td>3.2</td>\n",
       "      <td>1.3</td>\n",
       "      <td>0.2</td>\n",
       "      <td>setosa</td>\n",
       "    </tr>\n",
       "    <tr>\n",
       "      <th>3</th>\n",
       "      <td>4</td>\n",
       "      <td>4.6</td>\n",
       "      <td>3.1</td>\n",
       "      <td>1.5</td>\n",
       "      <td>0.2</td>\n",
       "      <td>setosa</td>\n",
       "    </tr>\n",
       "    <tr>\n",
       "      <th>4</th>\n",
       "      <td>5</td>\n",
       "      <td>5.0</td>\n",
       "      <td>3.6</td>\n",
       "      <td>1.4</td>\n",
       "      <td>0.2</td>\n",
       "      <td>setosa</td>\n",
       "    </tr>\n",
       "  </tbody>\n",
       "</table>\n",
       "</div>"
      ],
      "text/plain": [
       "   Unnamed: 0  Sepal.Length  Sepal.Width  Petal.Length  Petal.Width Species\n",
       "0           1           5.1          3.5           1.4          0.2  setosa\n",
       "1           2           4.9          3.0           1.4          0.2  setosa\n",
       "2           3           4.7          3.2           1.3          0.2  setosa\n",
       "3           4           4.6          3.1           1.5          0.2  setosa\n",
       "4           5           5.0          3.6           1.4          0.2  setosa"
      ]
     },
     "execution_count": 4,
     "metadata": {},
     "output_type": "execute_result"
    }
   ],
   "source": [
    "import pandas as pd\n",
    "import numpy as np\n",
    "\n",
    "data = pd.read_csv(\"data/iris.csv\")\n",
    "data.head()"
   ]
  },
  {
   "cell_type": "code",
   "execution_count": 5,
   "metadata": {
    "ExecuteTime": {
     "end_time": "2021-11-06T06:57:55.904529Z",
     "start_time": "2021-11-06T06:57:55.877913Z"
    }
   },
   "outputs": [
    {
     "name": "stdout",
     "output_type": "stream",
     "text": [
      "각 열의 평균: [5.84333333 3.05733333 3.758      1.19933333]\n",
      "각 열의 분산: [0.68569351 0.18997942 3.11627785 0.58100626]\n",
      "각 열의 표준편차: [0.82806613 0.43586628 1.76529823 0.76223767]\n"
     ]
    }
   ],
   "source": [
    "d = data.iloc[:, 1:5].values\n",
    "\n",
    "n = d.shape[0]\n",
    "data_mean = d.sum(axis=0)/n\n",
    "print(\"각 열의 평균: {}\".format(data_mean))\n",
    "\n",
    "data_var = ((d - data_mean)**2 ).sum(axis=0)/(n - 1)\n",
    "print(\"각 열의 분산: {}\".format(data_var))\n",
    "\n",
    "data_std = data_var**(1/2)\n",
    "print(\"각 열의 표준편차: {}\".format(data_std))\n",
    "\n",
    "    "
   ]
  },
  {
   "cell_type": "markdown",
   "metadata": {},
   "source": [
    "`ndarray` 클래스에 속한 `.sum()` 함수는 **axis** 설정이 가능하여 행별로 더할지, 열별로 더할지 설정할 수 있습니다.\n",
    "\n",
    "### 비교\n",
    "\n",
    "- `pandas`의 `describe()`함수를 사용!"
   ]
  },
  {
   "cell_type": "code",
   "execution_count": 6,
   "metadata": {
    "ExecuteTime": {
     "end_time": "2021-11-06T06:58:12.641105Z",
     "start_time": "2021-11-06T06:58:12.596057Z"
    }
   },
   "outputs": [
    {
     "data": {
      "text/html": [
       "<div>\n",
       "<style scoped>\n",
       "    .dataframe tbody tr th:only-of-type {\n",
       "        vertical-align: middle;\n",
       "    }\n",
       "\n",
       "    .dataframe tbody tr th {\n",
       "        vertical-align: top;\n",
       "    }\n",
       "\n",
       "    .dataframe thead th {\n",
       "        text-align: right;\n",
       "    }\n",
       "</style>\n",
       "<table border=\"1\" class=\"dataframe\">\n",
       "  <thead>\n",
       "    <tr style=\"text-align: right;\">\n",
       "      <th></th>\n",
       "      <th>Unnamed: 0</th>\n",
       "      <th>Sepal.Length</th>\n",
       "      <th>Sepal.Width</th>\n",
       "      <th>Petal.Length</th>\n",
       "      <th>Petal.Width</th>\n",
       "    </tr>\n",
       "  </thead>\n",
       "  <tbody>\n",
       "    <tr>\n",
       "      <th>count</th>\n",
       "      <td>150.000000</td>\n",
       "      <td>150.000000</td>\n",
       "      <td>150.000000</td>\n",
       "      <td>150.000000</td>\n",
       "      <td>150.000000</td>\n",
       "    </tr>\n",
       "    <tr>\n",
       "      <th>mean</th>\n",
       "      <td>75.500000</td>\n",
       "      <td>5.843333</td>\n",
       "      <td>3.057333</td>\n",
       "      <td>3.758000</td>\n",
       "      <td>1.199333</td>\n",
       "    </tr>\n",
       "    <tr>\n",
       "      <th>std</th>\n",
       "      <td>43.445368</td>\n",
       "      <td>0.828066</td>\n",
       "      <td>0.435866</td>\n",
       "      <td>1.765298</td>\n",
       "      <td>0.762238</td>\n",
       "    </tr>\n",
       "    <tr>\n",
       "      <th>min</th>\n",
       "      <td>1.000000</td>\n",
       "      <td>4.300000</td>\n",
       "      <td>2.000000</td>\n",
       "      <td>1.000000</td>\n",
       "      <td>0.100000</td>\n",
       "    </tr>\n",
       "    <tr>\n",
       "      <th>25%</th>\n",
       "      <td>38.250000</td>\n",
       "      <td>5.100000</td>\n",
       "      <td>2.800000</td>\n",
       "      <td>1.600000</td>\n",
       "      <td>0.300000</td>\n",
       "    </tr>\n",
       "    <tr>\n",
       "      <th>50%</th>\n",
       "      <td>75.500000</td>\n",
       "      <td>5.800000</td>\n",
       "      <td>3.000000</td>\n",
       "      <td>4.350000</td>\n",
       "      <td>1.300000</td>\n",
       "    </tr>\n",
       "    <tr>\n",
       "      <th>75%</th>\n",
       "      <td>112.750000</td>\n",
       "      <td>6.400000</td>\n",
       "      <td>3.300000</td>\n",
       "      <td>5.100000</td>\n",
       "      <td>1.800000</td>\n",
       "    </tr>\n",
       "    <tr>\n",
       "      <th>max</th>\n",
       "      <td>150.000000</td>\n",
       "      <td>7.900000</td>\n",
       "      <td>4.400000</td>\n",
       "      <td>6.900000</td>\n",
       "      <td>2.500000</td>\n",
       "    </tr>\n",
       "  </tbody>\n",
       "</table>\n",
       "</div>"
      ],
      "text/plain": [
       "       Unnamed: 0  Sepal.Length  Sepal.Width  Petal.Length  Petal.Width\n",
       "count  150.000000    150.000000   150.000000    150.000000   150.000000\n",
       "mean    75.500000      5.843333     3.057333      3.758000     1.199333\n",
       "std     43.445368      0.828066     0.435866      1.765298     0.762238\n",
       "min      1.000000      4.300000     2.000000      1.000000     0.100000\n",
       "25%     38.250000      5.100000     2.800000      1.600000     0.300000\n",
       "50%     75.500000      5.800000     3.000000      4.350000     1.300000\n",
       "75%    112.750000      6.400000     3.300000      5.100000     1.800000\n",
       "max    150.000000      7.900000     4.400000      6.900000     2.500000"
      ]
     },
     "execution_count": 6,
     "metadata": {},
     "output_type": "execute_result"
    }
   ],
   "source": [
    "data.describe()"
   ]
  },
  {
   "cell_type": "markdown",
   "metadata": {},
   "source": [
    "## 3. Gradient Descent"
   ]
  },
  {
   "cell_type": "code",
   "execution_count": 7,
   "metadata": {
    "ExecuteTime": {
     "end_time": "2021-11-06T08:10:26.419943Z",
     "start_time": "2021-11-06T08:10:26.372667Z"
    }
   },
   "outputs": [
    {
     "data": {
      "text/html": [
       "<div>\n",
       "<style scoped>\n",
       "    .dataframe tbody tr th:only-of-type {\n",
       "        vertical-align: middle;\n",
       "    }\n",
       "\n",
       "    .dataframe tbody tr th {\n",
       "        vertical-align: top;\n",
       "    }\n",
       "\n",
       "    .dataframe thead th {\n",
       "        text-align: right;\n",
       "    }\n",
       "</style>\n",
       "<table border=\"1\" class=\"dataframe\">\n",
       "  <thead>\n",
       "    <tr style=\"text-align: right;\">\n",
       "      <th></th>\n",
       "      <th>population</th>\n",
       "      <th>profit</th>\n",
       "    </tr>\n",
       "  </thead>\n",
       "  <tbody>\n",
       "    <tr>\n",
       "      <th>0</th>\n",
       "      <td>6.1101</td>\n",
       "      <td>17.5920</td>\n",
       "    </tr>\n",
       "    <tr>\n",
       "      <th>1</th>\n",
       "      <td>5.5277</td>\n",
       "      <td>9.1302</td>\n",
       "    </tr>\n",
       "    <tr>\n",
       "      <th>2</th>\n",
       "      <td>8.5186</td>\n",
       "      <td>13.6620</td>\n",
       "    </tr>\n",
       "    <tr>\n",
       "      <th>3</th>\n",
       "      <td>7.0032</td>\n",
       "      <td>11.8540</td>\n",
       "    </tr>\n",
       "    <tr>\n",
       "      <th>4</th>\n",
       "      <td>5.8598</td>\n",
       "      <td>6.8233</td>\n",
       "    </tr>\n",
       "  </tbody>\n",
       "</table>\n",
       "</div>"
      ],
      "text/plain": [
       "   population   profit\n",
       "0      6.1101  17.5920\n",
       "1      5.5277   9.1302\n",
       "2      8.5186  13.6620\n",
       "3      7.0032  11.8540\n",
       "4      5.8598   6.8233"
      ]
     },
     "execution_count": 7,
     "metadata": {},
     "output_type": "execute_result"
    }
   ],
   "source": [
    "df = pd.read_csv('data/ex1data1.txt', names=['population', 'profit'])\n",
    "df.head()"
   ]
  },
  {
   "cell_type": "code",
   "execution_count": 10,
   "metadata": {
    "ExecuteTime": {
     "end_time": "2021-11-06T08:10:51.859503Z",
     "start_time": "2021-11-06T08:10:51.667297Z"
    }
   },
   "outputs": [
    {
     "data": {
      "text/plain": [
       "Text(0, 0.5, 'Profit in $10,000s')"
      ]
     },
     "execution_count": 10,
     "metadata": {},
     "output_type": "execute_result"
    },
    {
     "data": {
      "image/png": "[encoded data removed]",
      "text/plain": [
       "<Figure size 432x288 with 1 Axes>"
      ]
     },
     "metadata": {
      "needs_background": "light"
     },
     "output_type": "display_data"
    }
   ],
   "source": [
    "%matplotlib inline\n",
    "\n",
    "X = np.c_[np.ones(df.shape[0]), df.population.values] \n",
    "y = np.c_[df.profit.values]\n",
    "\n",
    "plt.scatter(X[:,1], y, s=30, c='r', marker='x', linewidths=1)\n",
    "plt.xlim(4,24)\n",
    "plt.xlabel('Population of City in 10,000s')\n",
    "plt.ylabel('Profit in $10,000s')"
   ]
  },
  {
   "cell_type": "markdown",
   "metadata": {},
   "source": [
    "### 3.1. Compute Cost\n",
    "\n",
    "+ formula\n",
    "\n",
    "$$h_\\theta(x) = \\theta^Tx = \\theta_0 + \\theta_1x_1$$\n",
    "\n",
    "$$J(\\theta) = \\frac{1}{2m}\\sum_{i=1}^{m} (h_\\theta(x^{(i)}) - y^{(i)})^2$$\n",
    "\n",
    "> 즉, 주어진 `theta` 값이 얼마나 많은 Cost를 발생 시키는가?"
   ]
  },
  {
   "cell_type": "code",
   "execution_count": 11,
   "metadata": {
    "ExecuteTime": {
     "end_time": "2021-11-06T08:11:26.338699Z",
     "start_time": "2021-11-06T08:11:26.323361Z"
    }
   },
   "outputs": [],
   "source": [
    "from __future__ import division\n",
    "\n",
    "def computeCost(X, y, theta=[[0], [0]]):\n",
    "    \"\"\"\n",
    "    (예측값 - y)^2 계산\n",
    "    y절편은 1*(theta) 로 해결\n",
    "    theta = [y절편 가중치, x1 가중치]\n",
    "    \"\"\"\n",
    "    m = y.size ### 데이터 갯수 저장\n",
    "    theta = np.array(theta)\n",
    "    J = 0 ### J 초기화\n",
    "    \n",
    "    h = X.dot(theta) ### 1*0 + x*0\n",
    "    \n",
    "    J = 1/(2*m)*np.sum(np.square(h-y))\n",
    "    \n",
    "    return(J)"
   ]
  },
  {
   "cell_type": "code",
   "execution_count": 12,
   "metadata": {
    "ExecuteTime": {
     "end_time": "2021-11-06T08:11:26.634185Z",
     "start_time": "2021-11-06T08:11:26.625181Z"
    }
   },
   "outputs": [
    {
     "data": {
      "text/plain": [
       "32.072733877455676"
      ]
     },
     "execution_count": 12,
     "metadata": {},
     "output_type": "execute_result"
    }
   ],
   "source": [
    "computeCost(X,y)"
   ]
  },
  {
   "cell_type": "markdown",
   "metadata": {},
   "source": [
    "### 3.2.  Gradient Descent\n",
    "\n",
    "+ formula\n",
    "\n",
    "$$\\theta_j := \\theta_j - \\alpha\\frac{1}{m}\\sum_{i=1}^{m} (h_\\theta(x^{(i)}) - y^{(i)})x_j^{(i)}$$\n",
    "\n",
    "- **Insight** : J를 구하는 식을 미분한 값을 빼준다 \n",
    "\n",
    "- $\\alpha$ : learning rate \n",
    "\n",
    "+ iteration test\n"
   ]
  },
  {
   "cell_type": "code",
   "execution_count": 13,
   "metadata": {
    "ExecuteTime": {
     "end_time": "2021-11-06T08:12:23.085553Z",
     "start_time": "2021-11-06T08:12:23.043993Z"
    }
   },
   "outputs": [
    {
     "name": "stdout",
     "output_type": "stream",
     "text": [
      "[16.76964237 10.40757975  7.75918348  6.65328753  6.18810582  5.98908452\n",
      "  5.90065377  5.85819792  5.83487879  5.81954893  5.80757803  5.79704258\n",
      "  5.78714338  5.7775482   5.76811877  5.75879735  5.74955971  5.74039548\n",
      "  5.73130008  5.72227135  5.71330809  5.70440955  5.69557514  5.68680436\n",
      "  5.67809671  5.66945175  5.660869    5.65234803  5.64388839  5.63548964\n",
      "  5.62715134  5.61887305  5.61065434  5.60249479  5.59439396  5.58635144\n",
      "  5.5783668   5.57043964  5.56256952  5.55475605  5.54699882  5.53929742\n",
      "  5.53165145  5.52406051  5.51652421  5.50904214  5.50161393  5.49423918\n",
      "  5.48691752  5.47964854  5.47243189  5.46526718  5.45815403  5.45109208\n",
      "  5.44408096  5.4371203   5.43020973  5.42334891  5.41653747  5.40977505\n",
      "  5.4030613   5.39639587  5.38977842  5.38320859  5.37668605  5.37021046\n",
      "  5.36378147  5.35739876  5.35106198  5.34477082  5.33852493  5.332324\n",
      "  5.32616769  5.3200557   5.3139877   5.30796337  5.3019824   5.29604447\n",
      "  5.29014929  5.28429653  5.2784859   5.27271709  5.26698981  5.26130374\n",
      "  5.25565859  5.25005408  5.24448991  5.23896578  5.23348141  5.22803652\n",
      "  5.22263081  5.21726401  5.21193584  5.20664602  5.20139427  5.19618032\n",
      "  5.19100389  5.18586473  5.18076255  5.17569709  5.17066809  5.16567529\n",
      "  5.16071842  5.15579723  5.15091146  5.14606085  5.14124516  5.13646412\n",
      "  5.1317175   5.12700504  5.12232649  5.11768162  5.11307019  5.10849194\n",
      "  5.10394664  5.09943406  5.09495395  5.09050609  5.08609025  5.08170618\n",
      "  5.07735367  5.07303249  5.06874241  5.06448321  5.06025466  5.05605654\n",
      "  5.05188864  5.04775074  5.04364262  5.03956407  5.03551487  5.03149482\n",
      "  5.0275037   5.02354131  5.01960743  5.01570187  5.01182442  5.00797488\n",
      "  5.00415304  5.00035871  4.99659169  4.99285178  4.98913879  4.98545252\n",
      "  4.98179279  4.97815939  4.97455215  4.97097087  4.96741536  4.96388545\n",
      "  4.96038094  4.95690166  4.95344741  4.95001803  4.94661333  4.94323314\n",
      "  4.93987727  4.93654556  4.93323783  4.9299539   4.92669361  4.92345679\n",
      "  4.92024326  4.91705286  4.91388542  4.91074078  4.90761878  4.90451924\n",
      "  4.90144202  4.89838694  4.89535385  4.89234259  4.889353    4.88638493\n",
      "  4.88343822  4.88051272  4.87760828  4.87472474  4.87186196  4.86901978\n",
      "  4.86619805  4.86339664  4.86061539  4.85785415  4.85511279  4.85239116\n",
      "  4.84968912  4.84700653  4.84434324  4.84169913  4.83907404  4.83646785\n",
      "  4.83388041  4.8313116   4.82876128  4.82622931  4.82371557  4.82121991\n",
      "  4.81874222  4.81628237  4.81384022  4.81141564  4.80900852  4.80661872\n",
      "  4.80424612  4.8018906   4.79955203  4.79723029  4.79492526  4.79263682\n",
      "  4.79036486  4.78810925  4.78586987  4.7836466   4.78143934  4.77924797\n",
      "  4.77707237  4.77491243  4.77276803  4.77063907  4.76852543  4.766427\n",
      "  4.76434368  4.76227535  4.7602219   4.75818324  4.75615925  4.75414983\n",
      "  4.75215487  4.75017427  4.74820792  4.74625573  4.74431758  4.74239339\n",
      "  4.74048304  4.73858645  4.7367035   4.73483411  4.73297817  4.73113559\n",
      "  4.72930628  4.72749012  4.72568704  4.72389694  4.72211972  4.7203553\n",
      "  4.71860357  4.71686445  4.71513784  4.71342367  4.71172183  4.71003224\n",
      "  4.70835481  4.70668946  4.70503609  4.70339462  4.70176496  4.70014704\n",
      "  4.69854075  4.69694603  4.69536279  4.69379094  4.69223041  4.69068111\n",
      "  4.68914296  4.68761588  4.68609979  4.68459461  4.68310026  4.68161667\n",
      "  4.68014376  4.67868145  4.67722967  4.67578833  4.67435737  4.67293671\n",
      "  4.67152627  4.67012598  4.66873577  4.66735557  4.6659853   4.6646249\n",
      "  4.66327428  4.66193339  4.66060214  4.65928048  4.65796833  4.65666563\n",
      "  4.6553723   4.65408828  4.6528135   4.6515479   4.6502914   4.64904395\n",
      "  4.64780548  4.64657592  4.64535521  4.64414329  4.64294009  4.64174555\n",
      "  4.6405596   4.63938219  4.63821326  4.63705274  4.63590057  4.6347567\n",
      "  4.63362106  4.63249359  4.63137424  4.63026294  4.62915964  4.62806428\n",
      "  4.62697681  4.62589716  4.62482529  4.62376112  4.62270462  4.62165572\n",
      "  4.62061437  4.61958052  4.61855411  4.61753508  4.61652339  4.61551898\n",
      "  4.6145218   4.6135318   4.61254892  4.61157311  4.61060433  4.60964253\n",
      "  4.60868764  4.60773963  4.60679844  4.60586402  4.60493633  4.60401532\n",
      "  4.60310093  4.60219313  4.60129186  4.60039708  4.59950874  4.59862679\n",
      "  4.59775119  4.59688189  4.59601885  4.59516202  4.59431135  4.59346681\n",
      "  4.59262835  4.59179592  4.59096948  4.590149    4.58933441  4.58852569\n",
      "  4.58772279  4.58692567  4.58613429  4.5853486   4.58456857  4.58379415\n",
      "  4.58302531  4.58226199  4.58150418  4.58075181  4.58000487  4.57926329\n",
      "  4.57852706  4.57779612  4.57707045  4.57635     4.57563473  4.57492461\n",
      "  4.57421961  4.57351967  4.57282478  4.57213488  4.57144996  4.57076996\n",
      "  4.57009485  4.56942461  4.56875919  4.56809855  4.56744268  4.56679152\n",
      "  4.56614505  4.56550323  4.56486603  4.56423342  4.56360536  4.56298182\n",
      "  4.56236277  4.56174818  4.56113801  4.56053223  4.55993081  4.55933372\n",
      "  4.55874092  4.5581524   4.55756811  4.55698802  4.55641211  4.55584034\n",
      "  4.55527269  4.55470913  4.55414962  4.55359414  4.55304265  4.55249514\n",
      "  4.55195157  4.55141191  4.55087613  4.55034421  4.54981611  4.54929182\n",
      "  4.5487713   4.54825453  4.54774148  4.54723212  4.54672643  4.54622437\n",
      "  4.54572593  4.54523108  4.54473979  4.54425203  4.54376779  4.54328703\n",
      "  4.54280973  4.54233586  4.54186541  4.54139834  4.54093464  4.54047427\n",
      "  4.54001722  4.53956345  4.53911295  4.53866569  4.53822166  4.53778081\n",
      "  4.53734315  4.53690863  4.53647723  4.53604895  4.53562374  4.5352016\n",
      "  4.53478249  4.53436641  4.53395331  4.53354319  4.53313602  4.53273178\n",
      "  4.53233045  4.53193201  4.53153644  4.53114371  4.53075382  4.53036672\n",
      "  4.52998242  4.52960087  4.52922208  4.52884601  4.52847265  4.52810197\n",
      "  4.52773397  4.52736861  4.52700588  4.52664576  4.52628824  4.52593329\n",
      "  4.52558089  4.52523103  4.52488368  4.52453884  4.52419648  4.52385658\n",
      "  4.52351913  4.52318411  4.5228515   4.52252128  4.52219344  4.52186796\n",
      "  4.52154482  4.52122401  4.52090551  4.5205893   4.52027536  4.51996368\n",
      "  4.51965425  4.51934705  4.51904205  4.51873925  4.51843863  4.51814018\n",
      "  4.51784387  4.5175497   4.51725764  4.51696768  4.51667981  4.51639402\n",
      "  4.51611028  4.51582858  4.51554891  4.51527125  4.51499559  4.51472192\n",
      "  4.51445021  4.51418046  4.51391265  4.51364677  4.51338281  4.51312074\n",
      "  4.51286056  4.51260225  4.5123458   4.5120912   4.51183843  4.51158748\n",
      "  4.51133833  4.51109098  4.51084541  4.5106016   4.51035955  4.51011924\n",
      "  4.50988067  4.50964381  4.50940865  4.50917519  4.5089434   4.50871329\n",
      "  4.50848483  4.50825801  4.50803283  4.50780927  4.50758732  4.50736696\n",
      "  4.50714819  4.506931    4.50671537  4.50650129  4.50628875  4.50607774\n",
      "  4.50586825  4.50566027  4.50545379  4.50524879  4.50504526  4.50484321\n",
      "  4.5046426   4.50444344  4.50424571  4.50404941  4.50385452  4.50366103\n",
      "  4.50346894  4.50327822  4.50308888  4.5029009   4.50271428  4.502529\n",
      "  4.50234505  4.50216243  4.50198112  4.50180111  4.5016224   4.50144498\n",
      "  4.50126883  4.50109395  4.50092033  4.50074797  4.50057684  4.50040694\n",
      "  4.50023826  4.5000708   4.49990455  4.49973949  4.49957562  4.49941293\n",
      "  4.49925141  4.49909105  4.49893184  4.49877379  4.49861687  4.49846107\n",
      "  4.4983064   4.49815285  4.4980004   4.49784904  4.49769878  4.4975496\n",
      "  4.49740149  4.49725444  4.49710846  4.49696352  4.49681963  4.49667678\n",
      "  4.49653495  4.49639414  4.49625435  4.49611556  4.49597777  4.49584098\n",
      "  4.49570517  4.49557033  4.49543647  4.49530357  4.49517162  4.49504063\n",
      "  4.49491058  4.49478146  4.49465328  4.49452601  4.49439967  4.49427423\n",
      "  4.49414969  4.49402605  4.4939033   4.49378144  4.49366045  4.49354033\n",
      "  4.49342108  4.49330268  4.49318514  4.49306844  4.49295259  4.49283757\n",
      "  4.49272337  4.49261     4.49249744  4.49238569  4.49227475  4.49216461\n",
      "  4.49205525  4.49194669  4.49183891  4.4917319   4.49162566  4.49152019\n",
      "  4.49141548  4.49131152  4.4912083   4.49110584  4.4910041   4.49090311\n",
      "  4.49080283  4.49070328  4.49060445  4.49050633  4.49040891  4.4903122\n",
      "  4.49021618  4.49012085  4.49002621  4.48993225  4.48983896  4.48974635\n",
      "  4.4896544   4.48956312  4.48947249  4.48938251  4.48929319  4.4892045\n",
      "  4.48911646  4.48902904  4.48894226  4.4888561   4.48877056  4.48868564\n",
      "  4.48860133  4.48851762  4.48843452  4.48835201  4.4882701   4.48818878\n",
      "  4.48810805  4.48802789  4.48794831  4.48786931  4.48779087  4.487713\n",
      "  4.48763569  4.48755893  4.48748273  4.48740707  4.48733196  4.4872574\n",
      "  4.48718336  4.48710986  4.48703689  4.48696445  4.48689252  4.48682112\n",
      "  4.48675022  4.48667984  4.48660997  4.48654059  4.48647172  4.48640334\n",
      "  4.48633546  4.48626806  4.48620115  4.48613472  4.48606877  4.48600329\n",
      "  4.48593828  4.48587374  4.48580967  4.48574606  4.4856829   4.4856202\n",
      "  4.48555795  4.48549615  4.4854348   4.48537388  4.48531341  4.48525337\n",
      "  4.48519376  4.48513458  4.48507582  4.48501749  4.48495958  4.48490209\n",
      "  4.48484501  4.48478834  4.48473208  4.48467622  4.48462076  4.48456571\n",
      "  4.48451105  4.48445678  4.48440291  4.48434942  4.48429632  4.4842436\n",
      "  4.48419126  4.48413929  4.4840877   4.48403648  4.48398563  4.48393515\n",
      "  4.48388503  4.48383527  4.48378587  4.48373682  4.48368813  4.48363978\n",
      "  4.48359179  4.48354414  4.48349683  4.48344986  4.48340324  4.48335694\n",
      "  4.48331098  4.48326536  4.48322006  4.48317508  4.48313043  4.4830861\n",
      "  4.48304209  4.4829984   4.48295502  4.48291195  4.4828692   4.48282675\n",
      "  4.4827846   4.48274276  4.48270123  4.48265999  4.48261904  4.48257839\n",
      "  4.48253804  4.48249797  4.4824582   4.4824187   4.4823795   4.48234057\n",
      "  4.48230193  4.48226356  4.48222547  4.48218766  4.48215011  4.48211284\n",
      "  4.48207584  4.4820391   4.48200262  4.48196641  4.48193046  4.48189477\n",
      "  4.48185933  4.48182415  4.48178922  4.48175455  4.48172012  4.48168594\n",
      "  4.48165201  4.48161832  4.48158488  4.48155167  4.48151871  4.48148598\n",
      "  4.48145348  4.48142122  4.4813892   4.4813574   4.48132583  4.48129449\n",
      "  4.48126338  4.48123248  4.48120182  4.48117137  4.48114114  4.48111113\n",
      "  4.48108133  4.48105175  4.48102238  4.48099323  4.48096428  4.48093554\n",
      "  4.48090701  4.48087868  4.48085056  4.48082264  4.48079492  4.4807674\n",
      "  4.48074008  4.48071296  4.48068603  4.48065929  4.48063275  4.48060639\n",
      "  4.48058023  4.48055426  4.48052847  4.48050287  4.48047745  4.48045222\n",
      "  4.48042716  4.48040229  4.4803776   4.48035308  4.48032874  4.48030458\n",
      "  4.48028059  4.48025677  4.48023312  4.48020965  4.48018634  4.4801632\n",
      "  4.48014023  4.48011742  4.48009478  4.4800723   4.48004998  4.48002782\n",
      "  4.48000582  4.47998398  4.4799623   4.47994077  4.4799194   4.47989818\n",
      "  4.47987712  4.4798562   4.47983544  4.47981483  4.47979436  4.47977404\n",
      "  4.47975387  4.47973384  4.47971396  4.47969422  4.47967463  4.47965517\n",
      "  4.47963585  4.47961668  4.47959764  4.47957873  4.47955997  4.47954134\n",
      "  4.47952284  4.47950448  4.47948624  4.47946814  4.47945017  4.47943233\n",
      "  4.47941462  4.47939703  4.47937958  4.47936224  4.47934504  4.47932795\n",
      "  4.47931099  4.47929415  4.47927743  4.47926084  4.47924436  4.479228\n",
      "  4.47921176  4.47919563  4.47917962  4.47916373  4.47914795  4.47913228\n",
      "  4.47911673  4.47910129  4.47908596  4.47907074  4.47905563  4.47904063\n",
      "  4.47902574  4.47901095  4.47899627  4.4789817   4.47896723  4.47895286\n",
      "  4.4789386   4.47892444  4.47891039  4.47889643  4.47888257  4.47886882\n",
      "  4.47885516  4.4788416   4.47882814  4.47881478  4.47880151  4.47878834\n",
      "  4.47877526  4.47876228  4.47874939  4.47873659  4.47872389  4.47871127\n",
      "  4.47869875  4.47868632  4.47867398  4.47866172  4.47864955  4.47863748\n",
      "  4.47862548  4.47861358  4.47860176  4.47859003  4.47857838  4.47856681\n",
      "  4.47855533  4.47854393  4.47853261  4.47852137  4.47851022  4.47849914\n",
      "  4.47848814  4.47847723  4.47846639  4.47845563  4.47844495  4.47843434\n",
      "  4.47842381  4.47841336  4.47840298  4.47839267  4.47838244  4.47837229\n",
      "  4.47836221  4.4783522   4.47834226  4.47833239  4.47832259  4.47831287\n",
      "  4.47830321  4.47829363  4.47828411  4.47827466  4.47826528  4.47825597\n",
      "  4.47824672  4.47823755  4.47822843  4.47821938  4.4782104   4.47820148\n",
      "  4.47819263  4.47818384  4.47817511  4.47816645  4.47815785  4.47814931\n",
      "  4.47814083  4.47813241  4.47812406  4.47811576  4.47810753  4.47809935\n",
      "  4.47809123  4.47808317  4.47807517  4.47806722  4.47805934  4.47805151\n",
      "  4.47804373  4.47803601  4.47802835  4.47802074]\n"
     ]
    }
   ],
   "source": [
    "m = y.size\n",
    "theta = np.array([[0], [0]]) ### 2X1\n",
    "J_history = np.zeros(1000)\n",
    "\n",
    "for iter in np.arange(1000):\n",
    "    h = X.dot(theta) ### 97X1\n",
    "    theta = theta - 0.02*(1/m)*X.T.dot(h - y) ### 2X97 * 97X1\n",
    "    J_history[iter] = computeCost(X, y, theta.tolist())\n",
    "print(J_history)"
   ]
  },
  {
   "cell_type": "code",
   "execution_count": 14,
   "metadata": {
    "ExecuteTime": {
     "end_time": "2021-11-06T08:12:36.699998Z",
     "start_time": "2021-11-06T08:12:36.680005Z"
    }
   },
   "outputs": [
    {
     "data": {
      "text/plain": [
       "array([[ -566.3961    ],\n",
       "       [-6336.89842532]])"
      ]
     },
     "execution_count": 14,
     "metadata": {},
     "output_type": "execute_result"
    }
   ],
   "source": [
    "np.matmul(X.T, X.dot(np.array([[0,0]]).transpose()) - y)"
   ]
  },
  {
   "cell_type": "code",
   "execution_count": 15,
   "metadata": {
    "ExecuteTime": {
     "end_time": "2021-11-06T08:12:37.271357Z",
     "start_time": "2021-11-06T08:12:37.043001Z"
    }
   },
   "outputs": [
    {
     "name": "stdout",
     "output_type": "stream",
     "text": [
      "theta:  [-3.63029144  1.16636235]\n"
     ]
    },
    {
     "data": {
      "text/plain": [
       "Text(0.5, 0, 'Iterations')"
      ]
     },
     "execution_count": 15,
     "metadata": {},
     "output_type": "execute_result"
    },
    {
     "data": {
      "image/png": "[encoded data removed]",
      "text/plain": [
       "<Figure size 432x288 with 1 Axes>"
      ]
     },
     "metadata": {
      "needs_background": "light"
     },
     "output_type": "display_data"
    }
   ],
   "source": [
    "def gradientDescent(X, y, theta=[[0],[0]], alpha=0.01, num_iters=1500):\n",
    "    m = y.size\n",
    "    theta = np.array(theta) ### 2X1\n",
    "    J_history = np.zeros(num_iters)\n",
    "    \n",
    "    for iter in np.arange(num_iters):\n",
    "        h = X.dot(theta) ### 97X1\n",
    "        theta = theta - alpha*(1/m)*X.T.dot(h - y)\n",
    "        J_history[iter] = computeCost(X, y, theta.tolist())\n",
    "    return(theta, J_history)\n",
    "\n",
    "# theta for minimized cost J\n",
    "theta , Cost_J = gradientDescent(X, y, alpha = 0.01)\n",
    "print('theta: ',theta.ravel())\n",
    "plt.plot(Cost_J)\n",
    "plt.ylabel('Cost J')\n",
    "plt.xlabel('Iterations')"
   ]
  },
  {
   "cell_type": "markdown",
   "metadata": {},
   "source": [
    "## Reference\n",
    "\n",
    "- 책\n",
    "    + 밑바닥 부터 시작하는 데이터 과학\n",
    "    + 밑바닥 부터 시작하는 딥러닝\n",
    "- 웹사이트\n",
    "    + numpy\n",
    "        - https://docs.scipy.org/doc/numpy/user/quickstart.html\n",
    "        - https://github.com/WegraLee/deep-learning-from-scratch/tree/master/ch01\n",
    "    + pandas\n",
    "        - https://medium.com/@5eo1ab/pandas-%EC%93%B0%EB%8A%94-%EC%9D%B4%EC%9C%A0-9063a90b0bd5\n",
    "        - https://wikidocs.net/2873"
   ]
  }
 ],
 "metadata": {
  "kernelspec": {
   "display_name": "Python 3",
   "language": "python",
   "name": "python3"
  },
  "language_info": {
   "codemirror_mode": {
    "name": "ipython",
    "version": 3
   },
   "file_extension": ".py",
   "mimetype": "text/x-python",
   "name": "python",
   "nbconvert_exporter": "python",
   "pygments_lexer": "ipython3",
   "version": "3.9.5"
  },
  "toc": {
   "base_numbering": 1,
   "nav_menu": {},
   "number_sections": false,
   "sideBar": true,
   "skip_h1_title": false,
   "title_cell": "Table of Contents",
   "title_sidebar": "Contents",
   "toc_cell": false,
   "toc_position": {},
   "toc_section_display": true,
   "toc_window_display": false
  }
 },
 "nbformat": 4,
 "nbformat_minor": 2
}
